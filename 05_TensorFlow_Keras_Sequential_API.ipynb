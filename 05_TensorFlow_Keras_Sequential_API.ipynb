{
  "nbformat": 4,
  "nbformat_minor": 0,
  "metadata": {
    "colab": {
      "name": "05 TensorFlow Keras Sequential API.ipynb",
      "provenance": [],
      "collapsed_sections": []
    },
    "kernelspec": {
      "name": "python3",
      "display_name": "Python 3"
    },
    "accelerator": "GPU"
  },
  "cells": [
    {
      "cell_type": "code",
      "metadata": {
        "id": "ZPnyBT-vA-ps"
      },
      "source": [
        "import os \r\n",
        "import datetime\r\n",
        "# The shutil module in Python provides many functions of high-level operations on files and collections of files.\r\n",
        "# This module helps in automating process of copying and removal of files and directories.\r\n",
        "import shutil \r\n",
        "\r\n",
        "import tensorflow as tf \r\n",
        "import numpy as np\r\n",
        "import pandas as pd \r\n",
        "from tensorflow import keras # Tensorflow keras API \r\n",
        "import matplotlib.pyplot as plt # For Ploting Graphs\r\n",
        "\r\n",
        "from tensorflow.keras.models import Sequential # Sequential API \r\n",
        "\r\n",
        "from tensorflow.keras.layers import Dense , DenseFeatures # Hidden Layers\r\n",
        "from tensorflow.keras.callbacks import TensorBoard # for saving our callbacks we use TensorBoard"
      ],
      "execution_count": 12,
      "outputs": []
    },
    {
      "cell_type": "code",
      "metadata": {
        "id": "5zw1bNu1Clqw"
      },
      "source": [
        "CSV_COLUMNS = [\r\n",
        "    'fare_amount',\r\n",
        "    'pickup_datetime',\r\n",
        "    'pickup_longitude',\r\n",
        "    'pickup_latitude',\r\n",
        "    'dropoff_longitude',\r\n",
        "    'dropoff_latitude',\r\n",
        "    'passenger_count',\r\n",
        "    'key'\r\n",
        "]\r\n",
        "\r\n",
        "LABEL_COLUMN = \"fare_amount\"\r\n",
        "\r\n",
        "DEFAULTS = [[0.0], ['na'], [0.0], [0.0], [0.0], [0.0], [0.0], ['na']]\r\n",
        "UNWANTED_COLS = [\"pickup_datetime\", \"key\"]\r\n",
        "\r\n",
        "def features_and_labels(row_data):\r\n",
        "  labels = row_data.pop(LABEL_COLUMN)\r\n",
        "  features = row_data\r\n",
        "\r\n",
        "  for unwanter_cols in UNWANTED_COLS:\r\n",
        "    features.pop(unwanter_cols)\r\n",
        "\r\n",
        "  return features,labels\r\n",
        "\r\n",
        "\r\n",
        "def create_dataset(pattern, batch_size = 1, mode = \"eval\"):\r\n",
        "  dataset = tf.data.experimental.make_csv_dataset(pattern , batch_size , CSV_COLUMNS , DEFAULTS)\r\n",
        "\r\n",
        "  dataset = dataset.map(features_and_labels)\r\n",
        "\r\n",
        "  if mode == \"train\":\r\n",
        "    dataset = dataset.shuffle(buffer_size = 1000).repeat()\r\n",
        "\r\n",
        "  dataset = dataset.prefetch(1)\r\n",
        "  return dataset"
      ],
      "execution_count": 2,
      "outputs": []
    },
    {
      "cell_type": "markdown",
      "metadata": {
        "id": "SE6Hm3U8DqC0"
      },
      "source": [
        "## Building a Simple Keras DNN Model"
      ]
    },
    {
      "cell_type": "markdown",
      "metadata": {
        "id": "zeVjZEGfD5CM"
      },
      "source": [
        "We will use feature columns to connect our raw data to our keras DNN model. Feature columns make it easy to perform common types of feature engineering on your raw data. For example, you can one-hot encode categorical data, create feature crosses, embeddings and more. \r\n",
        "\r\n",
        "In our case we won't do any feature engineering. However, we still need to create a list of feature columns to specify the numeric values which will be passed on to our model. To do this, we use tf.feature_column.numeric_column()\r\n",
        "\r\n",
        "We use a python dictionary comprehension to create the feature columns for our model, which is just an elegant alternative to a for loop."
      ]
    },
    {
      "cell_type": "code",
      "metadata": {
        "id": "ntUU3-YTDlAe"
      },
      "source": [
        "INPUT_COLS = [\r\n",
        "    'pickup_longitude',\r\n",
        "    'pickup_latitude',\r\n",
        "    'dropoff_longitude',\r\n",
        "    'dropoff_latitude',\r\n",
        "    'passenger_count'\r\n",
        "]\r\n",
        "\r\n",
        "feature_columns = {\r\n",
        "    colname : tf.feature_column.numeric_column(colname)\r\n",
        "    for colname in INPUT_COLS\r\n",
        "}"
      ],
      "execution_count": 3,
      "outputs": []
    },
    {
      "cell_type": "markdown",
      "metadata": {
        "id": "NhcAfsTpEzAF"
      },
      "source": [
        "\r\n",
        "Next, we create the DNN model. The Sequential model is a linear stack of layers and when building a model using the Sequential API, you configure each layer of the model in turn. Once all the layers have been added, you compile the model."
      ]
    },
    {
      "cell_type": "code",
      "metadata": {
        "id": "uXwy3VtPPIql"
      },
      "source": [
        "model = Sequential([\r\n",
        "            DenseFeatures(feature_columns=feature_columns.values()),\r\n",
        "            Dense(units = 32, activation=\"relu\", name=\"h1\"),\r\n",
        "            Dense(units = 8 , activation=\"relu\", name = \"h2\"),\r\n",
        "            Dense(units = 1, activation=\"linear\", name = \"output\")\r\n",
        "])"
      ],
      "execution_count": 6,
      "outputs": []
    },
    {
      "cell_type": "markdown",
      "metadata": {
        "id": "ScbZZ7tOQV_U"
      },
      "source": [
        "Next, to prepare the model for training, you must configure the learning process. This is done using the compile method. The compile method takes three arguments:\r\n",
        "\r\n",
        "- An optimizer. This could be the string identifier of an existing optimizer (such as rmsprop or adagrad), or an instance of the Optimizer class.\r\n",
        "- A loss function. This is the objective that the model will try to minimize. It can be the string identifier of an existing loss function from the Losses class (such as categorical_crossentropy or mse), or it can be a custom objective function.\r\n",
        "- A list of metrics. For any machine learning problem you will want a set of metrics to evaluate your model. A metric could be the string identifier of an existing metric or a custom metric function.\r\n",
        "\r\n",
        "\r\n",
        "We will add an additional custom metric called rmse to our list of metrics which will return the root mean square error."
      ]
    },
    {
      "cell_type": "code",
      "metadata": {
        "id": "Yh-IEglFQFFf"
      },
      "source": [
        "def rmse(y_true, y_pred):\r\n",
        "  return tf.sqrt(tf.reduce_mean(tf.square(y_pred - y_true)))\r\n",
        "\r\n",
        "model.compile(optimizer=\"adam\", loss=\"mse\",metrics=[\"mse\",rmse])"
      ],
      "execution_count": 7,
      "outputs": []
    },
    {
      "cell_type": "markdown",
      "metadata": {
        "id": "DArT6DDXRTTm"
      },
      "source": [
        "## Model Training\r\n",
        "\r\n",
        "To train your model, Keras provides three functions that can be used:\r\n",
        "\r\n",
        "- .fit() for training a model for a fixed number of epochs (iterations on a dataset).\r\n",
        "- .fit_generator() for training a model on data yielded batch-by-batch by a generator\r\n",
        "- .train_on_batch() runs a single gradient update on a single batch of data.\r\n",
        "\r\n",
        "\r\n",
        "The .fit() function works well for small datasets which can fit entirely in memory. However, for large datasets (or if you need to manipulate the training data on the fly via data augmentation, etc) you will need to use .fit_generator() instead. The .train_on_batch() method is for more fine-grained control over training and accepts only a single batch of data.\r\n",
        "\r\n",
        "The taxifare dataset we sampled is small enough to fit in memory, so can we could use .fit to train our model. Our create_dataset function above generates batches of training examples, so we could also use .fit_generator. In fact, when calling .fit the method inspects the data, and if it's a generator (as our dataset is) it will invoke automatically .fit_generator for training.\r\n",
        "\r\n",
        "We start by setting up some parameters for our training job and create the data generators for the training and validation data.\r\n",
        "\r\n",
        "We refer you the the blog post ML Design Pattern #3: Virtual Epochs for further details on why express the training in terms of NUM_TRAIN_EXAMPLES and NUM_EVALS and why, in this training code, the number of epochs is really equal to the number of evaluations we perform."
      ]
    },
    {
      "cell_type": "code",
      "metadata": {
        "id": "ZG_lenyMQ5ZK"
      },
      "source": [
        "TRAIN_BATCH_SIZE = 1000\r\n",
        "NUM_TRAIN_EXAMPLE = 10000*5\r\n",
        "NUM_EVAL = 50\r\n",
        "NUM_EVAL_EXAMPLES = 10000\r\n",
        "\r\n",
        "\r\n",
        "trainds = create_dataset(pattern=\"/content/drive/MyDrive/Datasets/Taxi/taxi-train.csv\",\r\n",
        "                         batch_size=TRAIN_BATCH_SIZE,\r\n",
        "                         mode=\"train\")\r\n",
        "evalds = create_dataset(pattern=\"/content/drive/MyDrive/Datasets/Taxi/taxi-valid.csv\",\r\n",
        "                         batch_size=TRAIN_BATCH_SIZE,\r\n",
        "                         mode=\"eval\").take(NUM_EVAL_EXAMPLES//1000)"
      ],
      "execution_count": 8,
      "outputs": []
    },
    {
      "cell_type": "markdown",
      "metadata": {
        "id": "dftYXrYYTMkC"
      },
      "source": [
        "\r\n",
        "There are various arguments you can set when calling the .fit method. Here x specifies the input data which in our case is a tf.data dataset returning a tuple of (inputs, targets). The steps_per_epoch parameter is used to mark the end of training for a single epoch. Here we are training for NUM_EVALS epochs. Lastly, for the callback argument we specify a Tensorboard callback so we can inspect Tensorboard after training."
      ]
    },
    {
      "cell_type": "code",
      "metadata": {
        "colab": {
          "base_uri": "https://localhost:8080/"
        },
        "id": "wUkKQEHTS_zX",
        "outputId": "5ba2387e-bebf-456e-d0a7-a79450f67e28"
      },
      "source": [
        "steps_per_epoch = NUM_TRAIN_EXAMPLE // (TRAIN_BATCH_SIZE * NUM_EVAL)\r\n",
        "\r\n",
        "LOGDIR = \"./taxi_trained\"\r\n",
        "\r\n",
        "history = model.fit(x= trainds,\r\n",
        "                    steps_per_epoch = steps_per_epoch,\r\n",
        "                    epochs = NUM_EVAL,\r\n",
        "                    validation_data = evalds,\r\n",
        "                    callbacks=[TensorBoard(LOGDIR)])"
      ],
      "execution_count": 9,
      "outputs": [
        {
          "output_type": "stream",
          "text": [
            "Epoch 1/50\n",
            "WARNING:tensorflow:Layers in a Sequential model should only have a single input tensor, but we receive a <class 'collections.OrderedDict'> input: OrderedDict([('pickup_longitude', <tf.Tensor 'ExpandDims_4:0' shape=(1000, 1) dtype=float32>), ('pickup_latitude', <tf.Tensor 'ExpandDims_3:0' shape=(1000, 1) dtype=float32>), ('dropoff_longitude', <tf.Tensor 'ExpandDims_1:0' shape=(1000, 1) dtype=float32>), ('dropoff_latitude', <tf.Tensor 'ExpandDims:0' shape=(1000, 1) dtype=float32>), ('passenger_count', <tf.Tensor 'ExpandDims_2:0' shape=(1000, 1) dtype=float32>)])\n",
            "Consider rewriting this model with the Functional API.\n",
            "WARNING:tensorflow:Layers in a Sequential model should only have a single input tensor, but we receive a <class 'collections.OrderedDict'> input: OrderedDict([('pickup_longitude', <tf.Tensor 'ExpandDims_4:0' shape=(1000, 1) dtype=float32>), ('pickup_latitude', <tf.Tensor 'ExpandDims_3:0' shape=(1000, 1) dtype=float32>), ('dropoff_longitude', <tf.Tensor 'ExpandDims_1:0' shape=(1000, 1) dtype=float32>), ('dropoff_latitude', <tf.Tensor 'ExpandDims:0' shape=(1000, 1) dtype=float32>), ('passenger_count', <tf.Tensor 'ExpandDims_2:0' shape=(1000, 1) dtype=float32>)])\n",
            "Consider rewriting this model with the Functional API.\n",
            "1/1 [==============================] - ETA: 0s - loss: 532.0053 - mse: 532.0053 - rmse: 23.0652WARNING:tensorflow:Layers in a Sequential model should only have a single input tensor, but we receive a <class 'collections.OrderedDict'> input: OrderedDict([('pickup_longitude', <tf.Tensor 'ExpandDims_4:0' shape=(1000, 1) dtype=float32>), ('pickup_latitude', <tf.Tensor 'ExpandDims_3:0' shape=(1000, 1) dtype=float32>), ('dropoff_longitude', <tf.Tensor 'ExpandDims_1:0' shape=(1000, 1) dtype=float32>), ('dropoff_latitude', <tf.Tensor 'ExpandDims:0' shape=(1000, 1) dtype=float32>), ('passenger_count', <tf.Tensor 'ExpandDims_2:0' shape=(1000, 1) dtype=float32>)])\n",
            "Consider rewriting this model with the Functional API.\n",
            "1/1 [==============================] - 1s 1s/step - loss: 532.0053 - mse: 532.0053 - rmse: 23.0652 - val_loss: 429.0380 - val_mse: 429.0380 - val_rmse: 20.7119\n",
            "Epoch 2/50\n",
            "WARNING:tensorflow:From /usr/local/lib/python3.6/dist-packages/tensorflow/python/ops/summary_ops_v2.py:1277: stop (from tensorflow.python.eager.profiler) is deprecated and will be removed after 2020-07-01.\n",
            "Instructions for updating:\n",
            "use `tf.profiler.experimental.stop` instead.\n",
            "1/1 [==============================] - 0s 208ms/step - loss: 460.2869 - mse: 460.2869 - rmse: 21.4543 - val_loss: 338.6843 - val_mse: 338.6843 - val_rmse: 18.4023\n",
            "Epoch 3/50\n",
            "1/1 [==============================] - 0s 207ms/step - loss: 351.6915 - mse: 351.6915 - rmse: 18.7534 - val_loss: 264.3592 - val_mse: 264.3592 - val_rmse: 16.2552\n",
            "Epoch 4/50\n",
            "1/1 [==============================] - 0s 221ms/step - loss: 283.2778 - mse: 283.2778 - rmse: 16.8309 - val_loss: 206.7147 - val_mse: 206.7147 - val_rmse: 14.3752\n",
            "Epoch 5/50\n",
            "1/1 [==============================] - 0s 211ms/step - loss: 202.7088 - mse: 202.7088 - rmse: 14.2376 - val_loss: 163.6719 - val_mse: 163.6719 - val_rmse: 12.7897\n",
            "Epoch 6/50\n",
            "1/1 [==============================] - 0s 220ms/step - loss: 145.2048 - mse: 145.2048 - rmse: 12.0501 - val_loss: 134.7367 - val_mse: 134.7367 - val_rmse: 11.6055\n",
            "Epoch 7/50\n",
            "1/1 [==============================] - 0s 209ms/step - loss: 145.2976 - mse: 145.2976 - rmse: 12.0539 - val_loss: 116.4052 - val_mse: 116.4052 - val_rmse: 10.7815\n",
            "Epoch 8/50\n",
            "1/1 [==============================] - 0s 210ms/step - loss: 90.0521 - mse: 90.0521 - rmse: 9.4896 - val_loss: 109.8361 - val_mse: 109.8361 - val_rmse: 10.4729\n",
            "Epoch 9/50\n",
            "1/1 [==============================] - 0s 212ms/step - loss: 84.8667 - mse: 84.8667 - rmse: 9.2123 - val_loss: 111.8729 - val_mse: 111.8729 - val_rmse: 10.5586\n",
            "Epoch 10/50\n",
            "1/1 [==============================] - 0s 226ms/step - loss: 83.4078 - mse: 83.4078 - rmse: 9.1328 - val_loss: 120.5653 - val_mse: 120.5653 - val_rmse: 10.9684\n",
            "Epoch 11/50\n",
            "1/1 [==============================] - 0s 219ms/step - loss: 89.6911 - mse: 89.6911 - rmse: 9.4705 - val_loss: 130.6566 - val_mse: 130.6566 - val_rmse: 11.4078\n",
            "Epoch 12/50\n",
            "1/1 [==============================] - 0s 213ms/step - loss: 144.1103 - mse: 144.1103 - rmse: 12.0046 - val_loss: 144.4389 - val_mse: 144.4389 - val_rmse: 12.0078\n",
            "Epoch 13/50\n",
            "1/1 [==============================] - 0s 207ms/step - loss: 122.4737 - mse: 122.4737 - rmse: 11.0668 - val_loss: 152.7783 - val_mse: 152.7783 - val_rmse: 12.3500\n",
            "Epoch 14/50\n",
            "1/1 [==============================] - 0s 218ms/step - loss: 120.8034 - mse: 120.8034 - rmse: 10.9911 - val_loss: 157.9523 - val_mse: 157.9523 - val_rmse: 12.5619\n",
            "Epoch 15/50\n",
            "1/1 [==============================] - 0s 219ms/step - loss: 133.9862 - mse: 133.9862 - rmse: 11.5752 - val_loss: 165.5646 - val_mse: 165.5646 - val_rmse: 12.8519\n",
            "Epoch 16/50\n",
            "1/1 [==============================] - 0s 210ms/step - loss: 120.6510 - mse: 120.6510 - rmse: 10.9841 - val_loss: 163.8071 - val_mse: 163.8071 - val_rmse: 12.7924\n",
            "Epoch 17/50\n",
            "1/1 [==============================] - 0s 206ms/step - loss: 123.9898 - mse: 123.9898 - rmse: 11.1351 - val_loss: 160.9407 - val_mse: 160.9407 - val_rmse: 12.6817\n",
            "Epoch 18/50\n",
            "1/1 [==============================] - 0s 210ms/step - loss: 149.9426 - mse: 149.9426 - rmse: 12.2451 - val_loss: 154.8207 - val_mse: 154.8207 - val_rmse: 12.4277\n",
            "Epoch 19/50\n",
            "1/1 [==============================] - 0s 222ms/step - loss: 111.7068 - mse: 111.7068 - rmse: 10.5691 - val_loss: 147.3924 - val_mse: 147.3924 - val_rmse: 12.1159\n",
            "Epoch 20/50\n",
            "1/1 [==============================] - 0s 225ms/step - loss: 117.1212 - mse: 117.1212 - rmse: 10.8223 - val_loss: 138.3634 - val_mse: 138.3634 - val_rmse: 11.7359\n",
            "Epoch 21/50\n",
            "1/1 [==============================] - 0s 213ms/step - loss: 129.1949 - mse: 129.1949 - rmse: 11.3664 - val_loss: 131.0521 - val_mse: 131.0522 - val_rmse: 11.4389\n",
            "Epoch 22/50\n",
            "1/1 [==============================] - 0s 211ms/step - loss: 106.4766 - mse: 106.4766 - rmse: 10.3188 - val_loss: 123.7618 - val_mse: 123.7618 - val_rmse: 11.1133\n",
            "Epoch 23/50\n",
            "1/1 [==============================] - 0s 220ms/step - loss: 117.4034 - mse: 117.4034 - rmse: 10.8353 - val_loss: 119.2995 - val_mse: 119.2995 - val_rmse: 10.9074\n",
            "Epoch 24/50\n",
            "1/1 [==============================] - 0s 221ms/step - loss: 91.2153 - mse: 91.2153 - rmse: 9.5507 - val_loss: 113.8453 - val_mse: 113.8453 - val_rmse: 10.6591\n",
            "Epoch 25/50\n",
            "1/1 [==============================] - 0s 208ms/step - loss: 91.9708 - mse: 91.9708 - rmse: 9.5901 - val_loss: 112.8852 - val_mse: 112.8852 - val_rmse: 10.5956\n",
            "Epoch 26/50\n",
            "1/1 [==============================] - 0s 210ms/step - loss: 86.0391 - mse: 86.0391 - rmse: 9.2757 - val_loss: 109.3354 - val_mse: 109.3354 - val_rmse: 10.4416\n",
            "Epoch 27/50\n",
            "1/1 [==============================] - 0s 221ms/step - loss: 91.8519 - mse: 91.8519 - rmse: 9.5839 - val_loss: 110.7173 - val_mse: 110.7173 - val_rmse: 10.5104\n",
            "Epoch 28/50\n",
            "1/1 [==============================] - 0s 221ms/step - loss: 76.9643 - mse: 76.9643 - rmse: 8.7729 - val_loss: 112.2754 - val_mse: 112.2754 - val_rmse: 10.5834\n",
            "Epoch 29/50\n",
            "1/1 [==============================] - 0s 218ms/step - loss: 88.6856 - mse: 88.6856 - rmse: 9.4173 - val_loss: 112.2809 - val_mse: 112.2809 - val_rmse: 10.5886\n",
            "Epoch 30/50\n",
            "1/1 [==============================] - 0s 220ms/step - loss: 104.3829 - mse: 104.3829 - rmse: 10.2168 - val_loss: 112.9247 - val_mse: 112.9247 - val_rmse: 10.6217\n",
            "Epoch 31/50\n",
            "1/1 [==============================] - 0s 215ms/step - loss: 111.6569 - mse: 111.6569 - rmse: 10.5668 - val_loss: 114.9033 - val_mse: 114.9033 - val_rmse: 10.7105\n",
            "Epoch 32/50\n",
            "1/1 [==============================] - 0s 232ms/step - loss: 120.8192 - mse: 120.8192 - rmse: 10.9918 - val_loss: 114.7213 - val_mse: 114.7213 - val_rmse: 10.7013\n",
            "Epoch 33/50\n",
            "1/1 [==============================] - 0s 214ms/step - loss: 103.0931 - mse: 103.0931 - rmse: 10.1535 - val_loss: 117.4993 - val_mse: 117.4993 - val_rmse: 10.8181\n",
            "Epoch 34/50\n",
            "1/1 [==============================] - 0s 214ms/step - loss: 114.1440 - mse: 114.1440 - rmse: 10.6838 - val_loss: 115.3734 - val_mse: 115.3734 - val_rmse: 10.7310\n",
            "Epoch 35/50\n",
            "1/1 [==============================] - 0s 211ms/step - loss: 119.3812 - mse: 119.3812 - rmse: 10.9262 - val_loss: 114.3494 - val_mse: 114.3494 - val_rmse: 10.6689\n",
            "Epoch 36/50\n",
            "1/1 [==============================] - 0s 204ms/step - loss: 123.6217 - mse: 123.6217 - rmse: 11.1185 - val_loss: 114.7805 - val_mse: 114.7805 - val_rmse: 10.6999\n",
            "Epoch 37/50\n",
            "1/1 [==============================] - 0s 219ms/step - loss: 111.3458 - mse: 111.3458 - rmse: 10.5521 - val_loss: 112.3000 - val_mse: 112.3000 - val_rmse: 10.5842\n",
            "Epoch 38/50\n",
            "1/1 [==============================] - 0s 214ms/step - loss: 95.5401 - mse: 95.5401 - rmse: 9.7745 - val_loss: 112.0182 - val_mse: 112.0182 - val_rmse: 10.5440\n",
            "Epoch 39/50\n",
            "1/1 [==============================] - 0s 210ms/step - loss: 117.4573 - mse: 117.4573 - rmse: 10.8378 - val_loss: 110.4027 - val_mse: 110.4027 - val_rmse: 10.4977\n",
            "Epoch 40/50\n",
            "1/1 [==============================] - 0s 217ms/step - loss: 96.5802 - mse: 96.5802 - rmse: 9.8275 - val_loss: 112.6810 - val_mse: 112.6810 - val_rmse: 10.6078\n",
            "Epoch 41/50\n",
            "1/1 [==============================] - 0s 220ms/step - loss: 103.9840 - mse: 103.9840 - rmse: 10.1973 - val_loss: 112.1191 - val_mse: 112.1191 - val_rmse: 10.5759\n",
            "Epoch 42/50\n",
            "1/1 [==============================] - 0s 220ms/step - loss: 87.0884 - mse: 87.0884 - rmse: 9.3321 - val_loss: 110.3721 - val_mse: 110.3721 - val_rmse: 10.4924\n",
            "Epoch 43/50\n",
            "1/1 [==============================] - 0s 226ms/step - loss: 81.3393 - mse: 81.3393 - rmse: 9.0188 - val_loss: 112.0026 - val_mse: 112.0026 - val_rmse: 10.5750\n",
            "Epoch 44/50\n",
            "1/1 [==============================] - 0s 214ms/step - loss: 93.1002 - mse: 93.1002 - rmse: 9.6488 - val_loss: 111.8783 - val_mse: 111.8783 - val_rmse: 10.5691\n",
            "Epoch 45/50\n",
            "1/1 [==============================] - 0s 216ms/step - loss: 102.5722 - mse: 102.5722 - rmse: 10.1278 - val_loss: 112.5468 - val_mse: 112.5468 - val_rmse: 10.5984\n",
            "Epoch 46/50\n",
            "1/1 [==============================] - 0s 232ms/step - loss: 95.3254 - mse: 95.3254 - rmse: 9.7635 - val_loss: 114.8021 - val_mse: 114.8021 - val_rmse: 10.7020\n",
            "Epoch 47/50\n",
            "1/1 [==============================] - 0s 209ms/step - loss: 91.4638 - mse: 91.4638 - rmse: 9.5637 - val_loss: 113.9456 - val_mse: 113.9456 - val_rmse: 10.6628\n",
            "Epoch 48/50\n",
            "1/1 [==============================] - 0s 204ms/step - loss: 123.7337 - mse: 123.7337 - rmse: 11.1236 - val_loss: 112.6698 - val_mse: 112.6698 - val_rmse: 10.6017\n",
            "Epoch 49/50\n",
            "1/1 [==============================] - 0s 221ms/step - loss: 125.5831 - mse: 125.5831 - rmse: 11.2064 - val_loss: 112.5052 - val_mse: 112.5052 - val_rmse: 10.5896\n",
            "Epoch 50/50\n",
            "1/1 [==============================] - 0s 205ms/step - loss: 84.6237 - mse: 84.6237 - rmse: 9.1991 - val_loss: 113.6650 - val_mse: 113.6650 - val_rmse: 10.6432\n"
          ],
          "name": "stdout"
        }
      ]
    },
    {
      "cell_type": "code",
      "metadata": {
        "colab": {
          "base_uri": "https://localhost:8080/"
        },
        "id": "02i_rjeDT8O0",
        "outputId": "a976e4cb-11fa-4486-f3f8-cbdfb688723c"
      },
      "source": [
        "model.summary()"
      ],
      "execution_count": 11,
      "outputs": [
        {
          "output_type": "stream",
          "text": [
            "Model: \"sequential\"\n",
            "_________________________________________________________________\n",
            "Layer (type)                 Output Shape              Param #   \n",
            "=================================================================\n",
            "dense_features (DenseFeature multiple                  0         \n",
            "_________________________________________________________________\n",
            "h1 (Dense)                   multiple                  192       \n",
            "_________________________________________________________________\n",
            "h2 (Dense)                   multiple                  264       \n",
            "_________________________________________________________________\n",
            "output (Dense)               multiple                  9         \n",
            "=================================================================\n",
            "Total params: 465\n",
            "Trainable params: 465\n",
            "Non-trainable params: 0\n",
            "_________________________________________________________________\n"
          ],
          "name": "stdout"
        }
      ]
    },
    {
      "cell_type": "markdown",
      "metadata": {
        "id": "AqtwrX54Ucop"
      },
      "source": [
        "\r\n",
        "Running .fit (or .fit_generator) returns a History object which collects all the events recorded during training. Similar to Tensorboard, we can plot the training and validation curves for the model loss and rmse by accessing these elements of the History object."
      ]
    },
    {
      "cell_type": "code",
      "metadata": {
        "colab": {
          "base_uri": "https://localhost:8080/",
          "height": 282
        },
        "id": "MVGDbUeuUKD0",
        "outputId": "2053266f-fcf7-4c41-fca5-8b56975e667e"
      },
      "source": [
        "RMSE_COLS = [\"rmse\", \"val_rmse\"]\r\n",
        "\r\n",
        "pd.DataFrame(history.history)[RMSE_COLS].plot()"
      ],
      "execution_count": 13,
      "outputs": [
        {
          "output_type": "execute_result",
          "data": {
            "text/plain": [
              "<matplotlib.axes._subplots.AxesSubplot at 0x7f96f6e1efd0>"
            ]
          },
          "metadata": {
            "tags": []
          },
          "execution_count": 13
        },
        {
          "output_type": "display_data",
          "data": {
            "image/png": "[encoded data removed]",
            "text/plain": [
              "<Figure size 432x288 with 1 Axes>"
            ]
          },
          "metadata": {
            "tags": [],
            "needs_background": "light"
          }
        }
      ]
    },
    {
      "cell_type": "code",
      "metadata": {
        "colab": {
          "base_uri": "https://localhost:8080/",
          "height": 282
        },
        "id": "w_YWoIyuUz9m",
        "outputId": "3280181b-aa22-4076-b61c-26bf940bb878"
      },
      "source": [
        "LOSS_COLS = ['loss', 'val_loss']\r\n",
        "\r\n",
        "# The history object is returned from calls to the fit() function used to train the model.\r\n",
        "# Metrics are stored in a dictionary in the history member of the object returned.\r\n",
        "pd.DataFrame(history.history)[LOSS_COLS].plot()"
      ],
      "execution_count": 14,
      "outputs": [
        {
          "output_type": "execute_result",
          "data": {
            "text/plain": [
              "<matplotlib.axes._subplots.AxesSubplot at 0x7f96f6d1d5c0>"
            ]
          },
          "metadata": {
            "tags": []
          },
          "execution_count": 14
        },
        {
          "output_type": "display_data",
          "data": {
            "image/png": "[encoded data removed]",
            "text/plain": [
              "<Figure size 432x288 with 1 Axes>"
            ]
          },
          "metadata": {
            "tags": [],
            "needs_background": "light"
          }
        }
      ]
    },
    {
      "cell_type": "markdown",
      "metadata": {
        "id": "Y0a3G_5MVAPT"
      },
      "source": [
        "## Making Predictions with our Model\r\n",
        "\r\n",
        "To make predictions with our trained model, we can call the predict method, passing to it a dictionary of values. The steps parameter determines the total number of steps before declaring the prediction round finished. Here since we have just one example, we set steps=1 (setting steps=None would also work). Note, however, that if x is a tf.data dataset or a dataset iterator, and steps is set to None, predict will run until the input dataset is exhausted."
      ]
    },
    {
      "cell_type": "code",
      "metadata": {
        "colab": {
          "base_uri": "https://localhost:8080/"
        },
        "id": "YUIqsMaqU5fC",
        "outputId": "220c686f-68e5-4c18-cf65-fa8e22f8c753"
      },
      "source": [
        "model.predict(x = {\r\n",
        "                  \"pickup_longitude\": tf.convert_to_tensor([\t-73.99259]),\r\n",
        "                 \"pickup_latitude\": tf.convert_to_tensor([40.742957]),\r\n",
        "                 \"dropoff_longitude\": tf.convert_to_tensor([-73.989908]),\r\n",
        "                 \"dropoff_latitude\": tf.convert_to_tensor([40.711053]),\r\n",
        "                 \"passenger_count\": tf.convert_to_tensor([1.0])},\r\n",
        "             steps=1)"
      ],
      "execution_count": 17,
      "outputs": [
        {
          "output_type": "execute_result",
          "data": {
            "text/plain": [
              "array([[10.32478]], dtype=float32)"
            ]
          },
          "metadata": {
            "tags": []
          },
          "execution_count": 17
        }
      ]
    },
    {
      "cell_type": "code",
      "metadata": {
        "id": "pe3Et7wpV_pn"
      },
      "source": [
        ""
      ],
      "execution_count": null,
      "outputs": []
    }
  ]
}