{
  "nbformat": 4,
  "nbformat_minor": 0,
  "metadata": {
    "colab": {
      "name": "Linear Regression on a Sample Data.ipynb",
      "provenance": [],
      "collapsed_sections": []
    },
    "kernelspec": {
      "name": "python3",
      "display_name": "Python 3"
    }
  },
  "cells": [
    {
      "cell_type": "code",
      "metadata": {
        "id": "q7j8LI-zj8UQ"
      },
      "source": [
        "import tensorflow as tf\r\n",
        "import numpy as np "
      ],
      "execution_count": 1,
      "outputs": []
    },
    {
      "cell_type": "code",
      "metadata": {
        "colab": {
          "base_uri": "https://localhost:8080/"
        },
        "id": "QfA6oW6OkMFe",
        "outputId": "f28b6b8b-ef88-40b3-eb22-fa929725ef3f"
      },
      "source": [
        "X = tf.constant(range(10), dtype=tf.float32)\r\n",
        "Y = 2 * X + 10\r\n",
        "print(\"X:{}\".format(X))\r\n",
        "print(\"Y:{}\".format(Y))"
      ],
      "execution_count": 3,
      "outputs": [
        {
          "output_type": "stream",
          "text": [
            "X:[0. 1. 2. 3. 4. 5. 6. 7. 8. 9.]\n",
            "Y:[10. 12. 14. 16. 18. 20. 22. 24. 26. 28.]\n"
          ],
          "name": "stdout"
        }
      ]
    },
    {
      "cell_type": "code",
      "metadata": {
        "colab": {
          "base_uri": "https://localhost:8080/"
        },
        "id": "1-AcKavkklYK",
        "outputId": "bb69e757-95aa-453a-d05c-2c59c10f6c51"
      },
      "source": [
        "X_test = tf.constant(range(10,20) , dtype = tf.float32)\r\n",
        "Y_test = 2 * X_test + 10\r\n",
        "\r\n",
        "print(\"X_test:\" , X_test)\r\n",
        "print(\"Y_test:\" , Y_test)"
      ],
      "execution_count": 6,
      "outputs": [
        {
          "output_type": "stream",
          "text": [
            "X_test: tf.Tensor([10. 11. 12. 13. 14. 15. 16. 17. 18. 19.], shape=(10,), dtype=float32)\n",
            "Y_test: tf.Tensor([30. 32. 34. 36. 38. 40. 42. 44. 46. 48.], shape=(10,), dtype=float32)\n"
          ],
          "name": "stdout"
        }
      ]
    },
    {
      "cell_type": "code",
      "metadata": {
        "id": "vPFNCd-dk_29"
      },
      "source": [
        "y_mean  = Y.numpy().mean()\r\n",
        "\r\n",
        "def predict_mean(X):\r\n",
        "  y_hat = y_mean * len(X)\r\n",
        "  return y_hat\r\n",
        "\r\n",
        "y_hat = predict_mean(X_test)"
      ],
      "execution_count": 7,
      "outputs": []
    },
    {
      "cell_type": "markdown",
      "metadata": {
        "id": "1X77tqzXlmOi"
      },
      "source": [
        "\r\n",
        "Using mean squared error, our loss is:$$\r\n",
        "MSE = \\frac{1}{m}\\sum_{i=1}^{m}(\\hat{Y}_i-Y_i)^2\r\n",
        "$$\r\n",
        "\r\n",
        "For this simple model the loss is then:"
      ]
    },
    {
      "cell_type": "code",
      "metadata": {
        "colab": {
          "base_uri": "https://localhost:8080/"
        },
        "id": "NcKISSWUljeK",
        "outputId": "06f00673-4964-4cfb-822f-a193343bda45"
      },
      "source": [
        "errors = (y_hat - Y)**2\r\n",
        "loss = tf.reduce_mean(errors)\r\n",
        "loss.numpy()"
      ],
      "execution_count": 11,
      "outputs": [
        {
          "output_type": "execute_result",
          "data": {
            "text/plain": [
              "29274.0"
            ]
          },
          "metadata": {
            "tags": []
          },
          "execution_count": 11
        }
      ]
    },
    {
      "cell_type": "code",
      "metadata": {
        "id": "WUUhHuv9l3Y4"
      },
      "source": [
        "def loss_mse(X , Y , w0 , w1):\r\n",
        "  y_hat = w0 * X + w1\r\n",
        "  errors = (y_hat - Y)**2\r\n",
        "  return tf.reduce_mean(errors)"
      ],
      "execution_count": 13,
      "outputs": []
    },
    {
      "cell_type": "markdown",
      "metadata": {
        "id": "4e7gRp9fmkgW"
      },
      "source": [
        "## Gradient Decent"
      ]
    },
    {
      "cell_type": "code",
      "metadata": {
        "id": "9cRw1szSmfk1"
      },
      "source": [
        "def compute_gradient(X , Y , w0 , w1):\r\n",
        "  with tf.GradientTape() as tape:\r\n",
        "    loss = loss_mse(X,Y,w0,w1)\r\n",
        "  return tape.gradient(loss , [w0,w1])"
      ],
      "execution_count": 16,
      "outputs": []
    },
    {
      "cell_type": "code",
      "metadata": {
        "id": "pJfDOyfynHfh"
      },
      "source": [
        "w0 = tf.Variable(0.0)\r\n",
        "w1 = tf.Variable(0.0)\r\n",
        "\r\n",
        "dw0,dw1 = compute_gradient(X,Y,w0,w1)"
      ],
      "execution_count": 17,
      "outputs": []
    },
    {
      "cell_type": "code",
      "metadata": {
        "colab": {
          "base_uri": "https://localhost:8080/"
        },
        "id": "Qw3UUco1nVCC",
        "outputId": "6d93eedd-1d45-45de-95d4-176ceabcffa6"
      },
      "source": [
        "print(\"dw0:\",dw0.numpy())\r\n",
        "print(\"dw1:\",dw1.numpy())"
      ],
      "execution_count": 18,
      "outputs": [
        {
          "output_type": "stream",
          "text": [
            "dw0: -204.0\n",
            "dw1: -38.0\n"
          ],
          "name": "stdout"
        }
      ]
    },
    {
      "cell_type": "markdown",
      "metadata": {
        "id": "6Npb50CrnnES"
      },
      "source": [
        "### **Training Loop**"
      ]
    },
    {
      "cell_type": "code",
      "metadata": {
        "colab": {
          "base_uri": "https://localhost:8080/"
        },
        "id": "_Fok0ADInkkp",
        "outputId": "19cc7b35-30bf-4580-b66f-dc0a1776f0be"
      },
      "source": [
        "STEPS = 1000\r\n",
        "LEARNING_RATE = .02\r\n",
        "MSG = \"STEP {step} - loss: {loss}, w0: {w0}, w1: {w1}\\n\"\r\n",
        "\r\n",
        "\r\n",
        "# The Variable() constructor requires an initial value for the variable, which can be a Tensor of any type and shape.\r\n",
        "w0 = tf.Variable(0.0)\r\n",
        "w1 = tf.Variable(0.0)\r\n",
        "\r\n",
        "\r\n",
        "for step in range(0, STEPS + 1):\r\n",
        "\r\n",
        "    dw0, dw1 = compute_gradient(X, Y, w0, w1)\r\n",
        "    w0.assign_sub(dw0 * LEARNING_RATE)\r\n",
        "    w1.assign_sub(dw1 * LEARNING_RATE)\r\n",
        "\r\n",
        "    if step % 100 == 0:\r\n",
        "        loss = loss_mse(X, Y, w0, w1)\r\n",
        "        print(MSG.format(step=step, loss=loss, w0=w0.numpy(), w1=w1.numpy()))"
      ],
      "execution_count": 23,
      "outputs": [
        {
          "output_type": "stream",
          "text": [
            "STEP 0 - loss: 35.70719528198242, w0: 4.079999923706055, w1: 0.7599999904632568\n",
            "\n",
            "STEP 100 - loss: 2.6017532348632812, w0: 2.4780430793762207, w1: 7.002389907836914\n",
            "\n",
            "STEP 200 - loss: 0.26831889152526855, w0: 2.153517961502075, w1: 9.037351608276367\n",
            "\n",
            "STEP 300 - loss: 0.027671903371810913, w0: 2.0493006706237793, w1: 9.690855979919434\n",
            "\n",
            "STEP 400 - loss: 0.0028539239428937435, w0: 2.0158326625823975, w1: 9.90071964263916\n",
            "\n",
            "STEP 500 - loss: 0.0002943490108009428, w0: 2.005084753036499, w1: 9.96811580657959\n",
            "\n",
            "STEP 600 - loss: 3.0356444767676294e-05, w0: 2.0016329288482666, w1: 9.989760398864746\n",
            "\n",
            "STEP 700 - loss: 3.1322738323069643e-06, w0: 2.0005245208740234, w1: 9.996710777282715\n",
            "\n",
            "STEP 800 - loss: 3.2238213520940917e-07, w0: 2.0001683235168457, w1: 9.998944282531738\n",
            "\n",
            "STEP 900 - loss: 3.369950718479231e-08, w0: 2.000054359436035, w1: 9.999658584594727\n",
            "\n",
            "STEP 1000 - loss: 3.6101481803996194e-09, w0: 2.0000178813934326, w1: 9.99988842010498\n",
            "\n"
          ],
          "name": "stdout"
        }
      ]
    },
    {
      "cell_type": "code",
      "metadata": {
        "colab": {
          "base_uri": "https://localhost:8080/"
        },
        "id": "jOhc_lPJol_q",
        "outputId": "70e2115a-3c21-415b-f9a6-4f9ce2ad2c33"
      },
      "source": [
        "loss = loss_mse(X_test , Y_test , w0 ,w1)\r\n",
        "loss.numpy()"
      ],
      "execution_count": 24,
      "outputs": [
        {
          "output_type": "execute_result",
          "data": {
            "text/plain": [
              "2.4563633e-08"
            ]
          },
          "metadata": {
            "tags": []
          },
          "execution_count": 24
        }
      ]
    },
    {
      "cell_type": "markdown",
      "metadata": {
        "id": "Gf6iun3fpqAb"
      },
      "source": [
        "## Modeling for Non Linear Fuction\r\n",
        "\r\n",
        "\r\n",
        "Try modeling a non-linear function such as: $y=xe^{-x^2}$"
      ]
    },
    {
      "cell_type": "code",
      "metadata": {
        "id": "JjqQXBxnpYbl"
      },
      "source": [
        "\r\n",
        "X = tf.constant(np.linspace(0, 2, 1000), dtype=tf.float32)\r\n",
        "Y = X * tf.exp(-X**2)"
      ],
      "execution_count": 25,
      "outputs": []
    },
    {
      "cell_type": "code",
      "metadata": {
        "colab": {
          "base_uri": "https://localhost:8080/",
          "height": 282
        },
        "id": "Fu56z80Gp1Bg",
        "outputId": "64c4a1af-5aab-453d-8890-96ced6033b60"
      },
      "source": [
        "import matplotlib.pyplot as plt\r\n",
        "%matplotlib inline\r\n",
        "\r\n",
        "# The .plot() is a versatile function, and will take an arbitrary number of arguments. For example, to plot x versus y.\r\n",
        "plt.plot(X, Y)"
      ],
      "execution_count": 27,
      "outputs": [
        {
          "output_type": "execute_result",
          "data": {
            "text/plain": [
              "[<matplotlib.lines.Line2D at 0x7f2dfd4eb1d0>]"
            ]
          },
          "metadata": {
            "tags": []
          },
          "execution_count": 27
        },
        {
          "output_type": "display_data",
          "data": {
            "image/png": "[encoded data removed]",
            "text/plain": [
              "<Figure size 432x288 with 1 Axes>"
            ]
          },
          "metadata": {
            "tags": [],
            "needs_background": "light"
          }
        }
      ]
    },
    {
      "cell_type": "code",
      "metadata": {
        "id": "Cn9gf4LKp3H9"
      },
      "source": [
        "# Let's make_features() procedure.\r\n",
        "def make_features(X):\r\n",
        "# The tf.ones_like() method will create a tensor of all ones that has the same shape as the input.\r\n",
        "    f1 = tf.ones_like(X)\r\n",
        "    f2 = X\r\n",
        "# The tf.square() method will compute square of input tensor element-wise.\r\n",
        "    f3 = tf.square(X)\r\n",
        "# The tf.sqrt() method will compute element-wise square root of the input tensor.\r\n",
        "    f4 = tf.sqrt(X)\r\n",
        "# The tf.exp() method will compute exponential of input tensor element-wise.\r\n",
        "    f5 = tf.exp(X)\r\n",
        "# The tf.stack() method will stacks a list of rank-R tensors into one rank-(R+1) tensor.\r\n",
        "    return tf.stack([f1, f2, f3, f4, f5], axis=1)"
      ],
      "execution_count": 28,
      "outputs": []
    },
    {
      "cell_type": "code",
      "metadata": {
        "id": "l7VxPT8Ap_FO"
      },
      "source": [
        "# Let's define predict() procedure that will remove dimensions of size 1 from the shape of a tensor.\r\n",
        "def predict(X, W):\r\n",
        "    return tf.squeeze(X @ W, -1)"
      ],
      "execution_count": 29,
      "outputs": []
    },
    {
      "cell_type": "code",
      "metadata": {
        "id": "EJn9ceAHqEWf"
      },
      "source": [
        "# Let's define loss_mse() procedure that will evaluate the mean of elements across dimensions of a tensor.\r\n",
        "def loss_mse(X, Y, W):\r\n",
        "    Y_hat = predict(X, W)\r\n",
        "    errors = (Y_hat - Y)**2\r\n",
        "    return tf.reduce_mean(errors)"
      ],
      "execution_count": 30,
      "outputs": []
    },
    {
      "cell_type": "code",
      "metadata": {
        "id": "0HSJ-_DqqG8u"
      },
      "source": [
        "# Let's define compute_gradients() procedure for computing the loss gradients.\r\n",
        "def compute_gradients(X, Y, W):\r\n",
        "    with tf.GradientTape() as tape:\r\n",
        "        loss = loss_mse(Xf, Y, W)\r\n",
        "    return tape.gradient(loss, W)"
      ],
      "execution_count": 31,
      "outputs": []
    },
    {
      "cell_type": "code",
      "metadata": {
        "colab": {
          "base_uri": "https://localhost:8080/",
          "height": 282
        },
        "id": "6zXn9dpyqJRp",
        "outputId": "149a5ea4-53d1-4d74-fa7e-8cdb7fd9d469"
      },
      "source": [
        "STEPS = 2000\r\n",
        "LEARNING_RATE = 0.01\r\n",
        "\r\n",
        "\r\n",
        "Xf = make_features(X)\r\n",
        "n_weights = Xf.shape[1]\r\n",
        "\r\n",
        "W = tf.Variable(np.zeros((n_weights, 1)), dtype=tf.float32)\r\n",
        "\r\n",
        "# For plotting\r\n",
        "steps, losses = [], []\r\n",
        "plt.figure()\r\n",
        "\r\n",
        "\r\n",
        "for step in range(1, STEPS + 1):\r\n",
        "\r\n",
        "    dW = compute_gradients(X, Y, W)\r\n",
        "    W.assign_sub(dW * LEARNING_RATE)\r\n",
        "\r\n",
        "    if step % 100 == 0:\r\n",
        "        loss = loss_mse(Xf, Y, W)\r\n",
        "        steps.append(step)\r\n",
        "        losses.append(loss)\r\n",
        "        plt.clf()\r\n",
        "        plt.plot(steps, losses)\r\n",
        "\r\n",
        "\r\n",
        "print(\"STEP: {} MSE: {}\".format(STEPS, loss_mse(Xf, Y, W)))"
      ],
      "execution_count": 38,
      "outputs": [
        {
          "output_type": "stream",
          "text": [
            "STEP: 2000 MSE: 0.002954382449388504\n"
          ],
          "name": "stdout"
        },
        {
          "output_type": "display_data",
          "data": {
            "image/png": "[encoded data removed]",
            "text/plain": [
              "<Figure size 432x288 with 1 Axes>"
            ]
          },
          "metadata": {
            "tags": [],
            "needs_background": "light"
          }
        }
      ]
    },
    {
      "cell_type": "code",
      "metadata": {
        "colab": {
          "base_uri": "https://localhost:8080/",
          "height": 282
        },
        "id": "yTBYmBMBqMKC",
        "outputId": "180fd918-8999-4d20-e6ab-a5fbb47e7b40"
      },
      "source": [
        "# The .figure() method will create a new figure, or activate an existing figure.\r\n",
        "plt.figure()\r\n",
        "# The .plot() is a versatile function, and will take an arbitrary number of arguments. For example, to plot x versus y.\r\n",
        "plt.plot(X, Y, label='actual')\r\n",
        "plt.plot(X, predict(Xf, W), label='predicted')\r\n",
        "# The .legend() method will place a legend on the axes.\r\n",
        "plt.legend()"
      ],
      "execution_count": 39,
      "outputs": [
        {
          "output_type": "execute_result",
          "data": {
            "text/plain": [
              "<matplotlib.legend.Legend at 0x7f2dfcd25e80>"
            ]
          },
          "metadata": {
            "tags": []
          },
          "execution_count": 39
        },
        {
          "output_type": "display_data",
          "data": {
            "image/png": "[encoded data removed]",
            "text/plain": [
              "<Figure size 432x288 with 1 Axes>"
            ]
          },
          "metadata": {
            "tags": [],
            "needs_background": "light"
          }
        }
      ]
    },
    {
      "cell_type": "code",
      "metadata": {
        "id": "BGWxgehFqRPr"
      },
      "source": [
        ""
      ],
      "execution_count": null,
      "outputs": []
    }
  ]
}
