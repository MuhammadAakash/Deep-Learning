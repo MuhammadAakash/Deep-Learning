{
  "nbformat": 4,
  "nbformat_minor": 0,
  "metadata": {
    "colab": {
      "name": "Introduction to Tensorflow.ipynb",
      "provenance": [],
      "collapsed_sections": []
    },
    "kernelspec": {
      "name": "python3",
      "display_name": "Python 3"
    }
  },
  "cells": [
    {
      "cell_type": "code",
      "metadata": {
        "colab": {
          "base_uri": "https://localhost:8080/"
        },
        "id": "e4-Be--1BfNo",
        "outputId": "50d4c239-8050-4718-cfb7-6f1900f63de1"
      },
      "source": [
        "import tensorflow as tf\r\n",
        "import numpy as np \r\n",
        "\r\n",
        "print(tf.__version__)"
      ],
      "execution_count": 1,
      "outputs": [
        {
          "output_type": "stream",
          "text": [
            "2.3.0\n"
          ],
          "name": "stdout"
        }
      ]
    },
    {
      "cell_type": "markdown",
      "metadata": {
        "id": "S5c63PsFCYD2"
      },
      "source": [
        "**Tensors Constant**"
      ]
    },
    {
      "cell_type": "code",
      "metadata": {
        "colab": {
          "base_uri": "https://localhost:8080/"
        },
        "id": "PDMy3CuxCQW6",
        "outputId": "66da6e15-110b-473c-9b9c-87fe57023865"
      },
      "source": [
        "x = tf.constant([[1,2,3],\r\n",
        "                 [4,5,6]])\r\n",
        "x"
      ],
      "execution_count": 2,
      "outputs": [
        {
          "output_type": "execute_result",
          "data": {
            "text/plain": [
              "<tf.Tensor: shape=(2, 3), dtype=int32, numpy=\n",
              "array([[1, 2, 3],\n",
              "       [4, 5, 6]], dtype=int32)>"
            ]
          },
          "metadata": {
            "tags": []
          },
          "execution_count": 2
        }
      ]
    },
    {
      "cell_type": "markdown",
      "metadata": {
        "id": "wRiFBgvJC2EJ"
      },
      "source": [
        "**Slicing**"
      ]
    },
    {
      "cell_type": "code",
      "metadata": {
        "colab": {
          "base_uri": "https://localhost:8080/"
        },
        "id": "yNiqiuloCpHU",
        "outputId": "21ef0336-66c3-45ad-dfe9-5f80c8d4055f"
      },
      "source": [
        "y = x[:,:2]\r\n",
        "y"
      ],
      "execution_count": 4,
      "outputs": [
        {
          "output_type": "execute_result",
          "data": {
            "text/plain": [
              "<tf.Tensor: shape=(2, 2), dtype=int32, numpy=\n",
              "array([[1, 2],\n",
              "       [4, 5]], dtype=int32)>"
            ]
          },
          "metadata": {
            "tags": []
          },
          "execution_count": 4
        }
      ]
    },
    {
      "cell_type": "markdown",
      "metadata": {
        "id": "FbhodYdYC6Hw"
      },
      "source": [
        "**Reshaping**"
      ]
    },
    {
      "cell_type": "code",
      "metadata": {
        "colab": {
          "base_uri": "https://localhost:8080/"
        },
        "id": "aiE3OJzKCydX",
        "outputId": "512d66f7-da82-44f2-f9cc-0a0cb5642e78"
      },
      "source": [
        "y = tf.reshape(x,[3,2])\r\n",
        "y"
      ],
      "execution_count": 6,
      "outputs": [
        {
          "output_type": "execute_result",
          "data": {
            "text/plain": [
              "<tf.Tensor: shape=(3, 2), dtype=int32, numpy=\n",
              "array([[1, 2],\n",
              "       [3, 4],\n",
              "       [5, 6]], dtype=int32)>"
            ]
          },
          "metadata": {
            "tags": []
          },
          "execution_count": 6
        }
      ]
    },
    {
      "cell_type": "markdown",
      "metadata": {
        "id": "oyqld1T_DIX0"
      },
      "source": [
        "**Rank 0 Tensor or a Scalar tensor**"
      ]
    },
    {
      "cell_type": "code",
      "metadata": {
        "colab": {
          "base_uri": "https://localhost:8080/"
        },
        "id": "4K2VYEofDEkn",
        "outputId": "560c6f9e-fdf6-4161-b3d4-3edd52fcb8c7"
      },
      "source": [
        "rank_0_tensor = tf.constant(4)\r\n",
        "print(rank_0_tensor)\r\n",
        "print(rank_0_tensor.shape)\r\n"
      ],
      "execution_count": 7,
      "outputs": [
        {
          "output_type": "stream",
          "text": [
            "tf.Tensor(4, shape=(), dtype=int32)\n",
            "()\n"
          ],
          "name": "stdout"
        }
      ]
    },
    {
      "cell_type": "markdown",
      "metadata": {
        "id": "I2_8tcQuDdwT"
      },
      "source": [
        "**Vector or Rank 1 Tensor**"
      ]
    },
    {
      "cell_type": "code",
      "metadata": {
        "colab": {
          "base_uri": "https://localhost:8080/"
        },
        "id": "h_xI6MPlDbAV",
        "outputId": "96f23870-9a61-4843-b692-0996f336c138"
      },
      "source": [
        "rank_1_tensor = tf.constant([2. , 4 , 6])\r\n",
        "print(rank_1_tensor)\r\n",
        "print(rank_1_tensor.shape)"
      ],
      "execution_count": 8,
      "outputs": [
        {
          "output_type": "stream",
          "text": [
            "tf.Tensor([2. 4. 6.], shape=(3,), dtype=float32)\n",
            "(3,)\n"
          ],
          "name": "stdout"
        }
      ]
    },
    {
      "cell_type": "markdown",
      "metadata": {
        "id": "_kMNaGKQDw6n"
      },
      "source": [
        "**Matrix or Rank 2 Tensor**"
      ]
    },
    {
      "cell_type": "code",
      "metadata": {
        "colab": {
          "base_uri": "https://localhost:8080/"
        },
        "id": "nfq3NZAjDv3h",
        "outputId": "785be4a9-0691-4169-b4b4-c70cac5d25a9"
      },
      "source": [
        "rank_2_tensor = tf.constant([[1,2,4],\r\n",
        "                             [4,5,6]])\r\n",
        "print(rank_2_tensor)\r\n",
        "print(rank_2_tensor.shape)"
      ],
      "execution_count": 9,
      "outputs": [
        {
          "output_type": "stream",
          "text": [
            "tf.Tensor(\n",
            "[[1 2 4]\n",
            " [4 5 6]], shape=(2, 3), dtype=int32)\n",
            "(2, 3)\n"
          ],
          "name": "stdout"
        }
      ]
    },
    {
      "cell_type": "markdown",
      "metadata": {
        "id": "PJ8bN4s6EHOY"
      },
      "source": [
        "**Tensors have many Axes here is Rank 3 Tensor**\r\n",
        "\r\n"
      ]
    },
    {
      "cell_type": "code",
      "metadata": {
        "colab": {
          "base_uri": "https://localhost:8080/"
        },
        "id": "2e6lFf5pEDvh",
        "outputId": "05a099a4-ba81-4597-e45a-8f717ffea192"
      },
      "source": [
        "rank_3_tensor = tf.constant([[[1,2,3],\r\n",
        "                             [4,5,6]],\r\n",
        "                           [[7,8,9],\r\n",
        "                            [10,11,12]],\r\n",
        "                           [[13,14,15],\r\n",
        "                            [16,17,18]]])\r\n",
        "print(rank_3_tensor)\r\n",
        "print(rank_3_tensor.shape)"
      ],
      "execution_count": 13,
      "outputs": [
        {
          "output_type": "stream",
          "text": [
            "tf.Tensor(\n",
            "[[[ 1  2  3]\n",
            "  [ 4  5  6]]\n",
            "\n",
            " [[ 7  8  9]\n",
            "  [10 11 12]]\n",
            "\n",
            " [[13 14 15]\n",
            "  [16 17 18]]], shape=(3, 2, 3), dtype=int32)\n",
            "(3, 2, 3)\n"
          ],
          "name": "stdout"
        }
      ]
    },
    {
      "cell_type": "markdown",
      "metadata": {
        "id": "Lm-neGUzFDpY"
      },
      "source": [
        "**How to Convert a Tensor into Numpy Array**"
      ]
    },
    {
      "cell_type": "code",
      "metadata": {
        "colab": {
          "base_uri": "https://localhost:8080/"
        },
        "id": "kRMGME0BEya8",
        "outputId": "ddf8e342-71d1-4cec-dcb0-9e02452cd7ee"
      },
      "source": [
        "np.array(rank_2_tensor)"
      ],
      "execution_count": 14,
      "outputs": [
        {
          "output_type": "execute_result",
          "data": {
            "text/plain": [
              "array([[1, 2, 4],\n",
              "       [4, 5, 6]], dtype=int32)"
            ]
          },
          "metadata": {
            "tags": []
          },
          "execution_count": 14
        }
      ]
    },
    {
      "cell_type": "markdown",
      "metadata": {
        "id": "9k5Cbr0iFWEl"
      },
      "source": [
        "**An other method**"
      ]
    },
    {
      "cell_type": "code",
      "metadata": {
        "colab": {
          "base_uri": "https://localhost:8080/"
        },
        "id": "XRz8Fq3HFRVW",
        "outputId": "db39c83a-0075-4fac-fb75-f9b8fa765148"
      },
      "source": [
        "rank_2_tensor.numpy"
      ],
      "execution_count": 15,
      "outputs": [
        {
          "output_type": "execute_result",
          "data": {
            "text/plain": [
              "<bound method _EagerTensorBase.numpy of <tf.Tensor: shape=(2, 3), dtype=int32, numpy=\n",
              "array([[1, 2, 4],\n",
              "       [4, 5, 6]], dtype=int32)>>"
            ]
          },
          "metadata": {
            "tags": []
          },
          "execution_count": 15
        }
      ]
    },
    {
      "cell_type": "markdown",
      "metadata": {
        "id": "LSnjU6ymFfpX"
      },
      "source": [
        "**Basic Math on Tensors**"
      ]
    },
    {
      "cell_type": "code",
      "metadata": {
        "colab": {
          "base_uri": "https://localhost:8080/"
        },
        "id": "sOq9UlaAFb6Q",
        "outputId": "62111df7-844c-4895-f4e2-716db03ff750"
      },
      "source": [
        "a = tf.constant([[1,2],\r\n",
        "                 [4,5]])\r\n",
        "b = tf.constant([[2,2],\r\n",
        "                 [4,4]])\r\n",
        "\r\n",
        "print(tf.add(a , b) , \"\\n\")\r\n",
        "print(tf.multiply(a , b), \"\\n\")\r\n",
        "print(tf.matmul(a , b), \"\\n\")"
      ],
      "execution_count": 18,
      "outputs": [
        {
          "output_type": "stream",
          "text": [
            "tf.Tensor(\n",
            "[[3 4]\n",
            " [8 9]], shape=(2, 2), dtype=int32) \n",
            "\n",
            "tf.Tensor(\n",
            "[[ 2  4]\n",
            " [16 20]], shape=(2, 2), dtype=int32) \n",
            "\n",
            "tf.Tensor(\n",
            "[[10 10]\n",
            " [28 28]], shape=(2, 2), dtype=int32) \n",
            "\n"
          ],
          "name": "stdout"
        }
      ]
    },
    {
      "cell_type": "code",
      "metadata": {
        "colab": {
          "base_uri": "https://localhost:8080/"
        },
        "id": "GOlicwyrGDqm",
        "outputId": "6e37a703-fef4-4051-94d3-baa5bfd10d1f"
      },
      "source": [
        "a = tf.constant([[1,2,3],\r\n",
        "                 [4,5,6],\r\n",
        "                 [7,8,9]])\r\n",
        "b = tf.constant([[2,2,2],\r\n",
        "                 [4,4,4],\r\n",
        "                 [6,6,6]])\r\n",
        "\r\n",
        "print(tf.add(a , b) , \"\\n\")\r\n",
        "print(tf.multiply(a , b), \"\\n\")\r\n",
        "print(tf.matmul(a , b), \"\\n\")"
      ],
      "execution_count": 20,
      "outputs": [
        {
          "output_type": "stream",
          "text": [
            "tf.Tensor(\n",
            "[[ 3  4  5]\n",
            " [ 8  9 10]\n",
            " [13 14 15]], shape=(3, 3), dtype=int32) \n",
            "\n",
            "tf.Tensor(\n",
            "[[ 2  4  6]\n",
            " [16 20 24]\n",
            " [42 48 54]], shape=(3, 3), dtype=int32) \n",
            "\n",
            "tf.Tensor(\n",
            "[[ 28  28  28]\n",
            " [ 64  64  64]\n",
            " [100 100 100]], shape=(3, 3), dtype=int32) \n",
            "\n"
          ],
          "name": "stdout"
        }
      ]
    },
    {
      "cell_type": "markdown",
      "metadata": {
        "id": "s5bZmcriIdfg"
      },
      "source": [
        "**Also we can do Arithematic Operations using these**"
      ]
    },
    {
      "cell_type": "code",
      "metadata": {
        "colab": {
          "base_uri": "https://localhost:8080/"
        },
        "id": "wrrd5w-AGeGC",
        "outputId": "9d483b7b-c9e7-49a0-ac5b-f2044059c3e1"
      },
      "source": [
        "print(a + b,\"\\n\")\r\n",
        "print(a * b, \"\\n\")\r\n",
        "print(a @ b, \"\\n\")"
      ],
      "execution_count": 21,
      "outputs": [
        {
          "output_type": "stream",
          "text": [
            "tf.Tensor(\n",
            "[[ 3  4  5]\n",
            " [ 8  9 10]\n",
            " [13 14 15]], shape=(3, 3), dtype=int32) \n",
            "\n",
            "tf.Tensor(\n",
            "[[ 2  4  6]\n",
            " [16 20 24]\n",
            " [42 48 54]], shape=(3, 3), dtype=int32) \n",
            "\n",
            "tf.Tensor(\n",
            "[[ 28  28  28]\n",
            " [ 64  64  64]\n",
            " [100 100 100]], shape=(3, 3), dtype=int32) \n",
            "\n"
          ],
          "name": "stdout"
        }
      ]
    },
    {
      "cell_type": "markdown",
      "metadata": {
        "id": "ej63WhEDI8Af"
      },
      "source": [
        "**Some other Math Operations**"
      ]
    },
    {
      "cell_type": "code",
      "metadata": {
        "colab": {
          "base_uri": "https://localhost:8080/"
        },
        "id": "n1WSs50vI2Nj",
        "outputId": "90240a6a-5e0c-4a02-e825-0865b2ca787b"
      },
      "source": [
        "x = tf.constant([[4. , 6.],[10. , 6.]])\r\n",
        "\r\n",
        "# Find maximum number in the tensor \r\n",
        "print(tf.reduce_max(x))\r\n",
        "# Find the Index of the maximum number in the tensor\r\n",
        "print(tf.math.argmax(x))\r\n",
        "\r\n",
        "# Compute the Softmax \r\n",
        "tf.nn.softmax(x)"
      ],
      "execution_count": 25,
      "outputs": [
        {
          "output_type": "stream",
          "text": [
            "tf.Tensor(10.0, shape=(), dtype=float32)\n",
            "tf.Tensor([1 0], shape=(2,), dtype=int64)\n"
          ],
          "name": "stdout"
        },
        {
          "output_type": "execute_result",
          "data": {
            "text/plain": [
              "<tf.Tensor: shape=(2, 2), dtype=float32, numpy=\n",
              "array([[0.11920291, 0.880797  ],\n",
              "       [0.98201376, 0.01798621]], dtype=float32)>"
            ]
          },
          "metadata": {
            "tags": []
          },
          "execution_count": 25
        }
      ]
    },
    {
      "cell_type": "markdown",
      "metadata": {
        "id": "sjnqjShmKJl0"
      },
      "source": [
        "**Shapes of a Tensor**"
      ]
    },
    {
      "cell_type": "markdown",
      "metadata": {
        "id": "21KxyAgfKNlP"
      },
      "source": [
        "Tensors have shapes. Some vocabulary:\r\n",
        "\r\n",
        " * Shape: The length (number of elements) of each of the dimensions of a tensor.\r\n",
        " * Rank: Number of tensor dimensions. A scalar has rank 0, a vector has rank 1, a matrix is rank 2.\r\n",
        " * Axis or Dimension: A particular dimension of a tensor.\r\n",
        " * Size: The total number of items in the tensor, the product shape vector\r\n",
        "\r\n",
        " \r\n",
        "Note: Although you may see reference to a \"tensor of two dimensions\", a rank-2 tensor does not usually describe a 2D space.\r\n",
        "\r\n",
        "Tensors and tf.TensorShape objects have convenient properties for accessing these:"
      ]
    },
    {
      "cell_type": "code",
      "metadata": {
        "id": "x2b0uu5hJlOk"
      },
      "source": [
        "rank_4_tensor = tf.zeros([3,2,4,5])"
      ],
      "execution_count": 26,
      "outputs": []
    },
    {
      "cell_type": "code",
      "metadata": {
        "colab": {
          "base_uri": "https://localhost:8080/"
        },
        "id": "F0hKlvRmKrP1",
        "outputId": "4b9e0e65-20d1-487c-cc24-d2109dc43f2d"
      },
      "source": [
        "rank_4_tensor"
      ],
      "execution_count": 27,
      "outputs": [
        {
          "output_type": "execute_result",
          "data": {
            "text/plain": [
              "<tf.Tensor: shape=(3, 2, 4, 5), dtype=float32, numpy=\n",
              "array([[[[0., 0., 0., 0., 0.],\n",
              "         [0., 0., 0., 0., 0.],\n",
              "         [0., 0., 0., 0., 0.],\n",
              "         [0., 0., 0., 0., 0.]],\n",
              "\n",
              "        [[0., 0., 0., 0., 0.],\n",
              "         [0., 0., 0., 0., 0.],\n",
              "         [0., 0., 0., 0., 0.],\n",
              "         [0., 0., 0., 0., 0.]]],\n",
              "\n",
              "\n",
              "       [[[0., 0., 0., 0., 0.],\n",
              "         [0., 0., 0., 0., 0.],\n",
              "         [0., 0., 0., 0., 0.],\n",
              "         [0., 0., 0., 0., 0.]],\n",
              "\n",
              "        [[0., 0., 0., 0., 0.],\n",
              "         [0., 0., 0., 0., 0.],\n",
              "         [0., 0., 0., 0., 0.],\n",
              "         [0., 0., 0., 0., 0.]]],\n",
              "\n",
              "\n",
              "       [[[0., 0., 0., 0., 0.],\n",
              "         [0., 0., 0., 0., 0.],\n",
              "         [0., 0., 0., 0., 0.],\n",
              "         [0., 0., 0., 0., 0.]],\n",
              "\n",
              "        [[0., 0., 0., 0., 0.],\n",
              "         [0., 0., 0., 0., 0.],\n",
              "         [0., 0., 0., 0., 0.],\n",
              "         [0., 0., 0., 0., 0.]]]], dtype=float32)>"
            ]
          },
          "metadata": {
            "tags": []
          },
          "execution_count": 27
        }
      ]
    },
    {
      "cell_type": "code",
      "metadata": {
        "colab": {
          "base_uri": "https://localhost:8080/"
        },
        "id": "dKTYoUUdKswS",
        "outputId": "a87cdf3f-e717-4946-8a19-92ec0cf27f95"
      },
      "source": [
        "print(\"Type of every Element:\", rank_4_tensor.dtype)\r\n",
        "print(\"Number of Dimensions:\",rank_4_tensor.ndim)\r\n",
        "print(\"Shape of Tensor:\",rank_4_tensor.shape)\r\n",
        "print(\"Elements Along axis 0 of Tensor:\",rank_4_tensor.shape[0])\r\n",
        "print(\"Elements Along last axis of Tensor:\",rank_4_tensor.shape[-1])\r\n",
        "print(\"Total number of Elements:\",tf.size(rank_4_tensor).numpy())"
      ],
      "execution_count": 28,
      "outputs": [
        {
          "output_type": "stream",
          "text": [
            "Type of every Element: <dtype: 'float32'>\n",
            "Number of Dimensions: 4\n",
            "Shape of Tensor: (3, 2, 4, 5)\n",
            "Elements Along axis 0 of Tensor: 3\n",
            "Elements Along last axis of Tensor: 5\n",
            "Total number of Elements: 120\n"
          ],
          "name": "stdout"
        }
      ]
    },
    {
      "cell_type": "markdown",
      "metadata": {
        "id": "1MjXSRHXNyNY"
      },
      "source": [
        "**Indexing**"
      ]
    },
    {
      "cell_type": "code",
      "metadata": {
        "colab": {
          "base_uri": "https://localhost:8080/"
        },
        "id": "s4JQeSy1NqLk",
        "outputId": "dbec316c-b416-42ea-94da-64c63a7cd98d"
      },
      "source": [
        "rank_1_tensor = tf.constant([0 , 1 ,2 , 3 , 4 , 5 , 6 ,7 , 8 , 9 , 10])\r\n",
        "print(rank_1_tensor.numpy())"
      ],
      "execution_count": 30,
      "outputs": [
        {
          "output_type": "stream",
          "text": [
            "[ 0  1  2  3  4  5  6  7  8  9 10]\n"
          ],
          "name": "stdout"
        }
      ]
    },
    {
      "cell_type": "code",
      "metadata": {
        "colab": {
          "base_uri": "https://localhost:8080/"
        },
        "id": "8T-Nqk-4OEZW",
        "outputId": "119c5ac5-b6e1-45f2-b9be-e1c1bb49f5d3"
      },
      "source": [
        "print(\"First:\",rank_1_tensor[0].numpy())\r\n",
        "print(\"Second:\",rank_1_tensor[1].numpy())\r\n",
        "print(\"Last:\",rank_1_tensor[-1].numpy())"
      ],
      "execution_count": 35,
      "outputs": [
        {
          "output_type": "stream",
          "text": [
            "First: 0\n",
            "Second: 1\n",
            "Last: 10\n"
          ],
          "name": "stdout"
        }
      ]
    },
    {
      "cell_type": "markdown",
      "metadata": {
        "id": "K_L1RezwPnIc"
      },
      "source": [
        "**Slicing**"
      ]
    },
    {
      "cell_type": "code",
      "metadata": {
        "colab": {
          "base_uri": "https://localhost:8080/"
        },
        "id": "53_mWazlO0Ho",
        "outputId": "cc9c01b0-c494-49e3-83b7-83479d3e8ee1"
      },
      "source": [
        "print(\"Everything:\",rank_1_tensor[:])\r\n",
        "print(\"Before 4:\",rank_1_tensor[:5])\r\n",
        "print(\"From 4 to the End:\",rank_1_tensor[5:])\r\n",
        "print(\"From 2 and before 7:\",rank_1_tensor[2:7])\r\n",
        "print(\"Every Other Item:\",rank_1_tensor[::2])\r\n",
        "print(\"Reversed:\", rank_1_tensor[::-1])"
      ],
      "execution_count": 38,
      "outputs": [
        {
          "output_type": "stream",
          "text": [
            "Everything: tf.Tensor([ 0  1  2  3  4  5  6  7  8  9 10], shape=(11,), dtype=int32)\n",
            "Before 4: tf.Tensor([0 1 2 3 4], shape=(5,), dtype=int32)\n",
            "From 4 to the End: tf.Tensor([ 5  6  7  8  9 10], shape=(6,), dtype=int32)\n",
            "From 2 and before 7: tf.Tensor([2 3 4 5 6], shape=(5,), dtype=int32)\n",
            "Every Other Item: tf.Tensor([ 0  2  4  6  8 10], shape=(6,), dtype=int32)\n",
            "Reversed: tf.Tensor([10  9  8  7  6  5  4  3  2  1  0], shape=(11,), dtype=int32)\n"
          ],
          "name": "stdout"
        }
      ]
    },
    {
      "cell_type": "markdown",
      "metadata": {
        "id": "DuIsC3JWQn9p"
      },
      "source": [
        "** *italicized text*Multi Axis Indexing**"
      ]
    },
    {
      "cell_type": "code",
      "metadata": {
        "colab": {
          "base_uri": "https://localhost:8080/"
        },
        "id": "H8BJIKpSQsxj",
        "outputId": "9bf76531-ab8b-40bc-ce5e-17f9491f1859"
      },
      "source": [
        "print(rank_2_tensor.numpy())"
      ],
      "execution_count": 40,
      "outputs": [
        {
          "output_type": "stream",
          "text": [
            "[[1 2 4]\n",
            " [4 5 6]]\n"
          ],
          "name": "stdout"
        }
      ]
    },
    {
      "cell_type": "code",
      "metadata": {
        "colab": {
          "base_uri": "https://localhost:8080/"
        },
        "id": "-56ar2b-Q0pV",
        "outputId": "8b8fa037-391e-441f-df3c-f1e948563b35"
      },
      "source": [
        "print(rank_2_tensor[1 , 1].numpy())"
      ],
      "execution_count": 41,
      "outputs": [
        {
          "output_type": "stream",
          "text": [
            "5\n"
          ],
          "name": "stdout"
        }
      ]
    },
    {
      "cell_type": "markdown",
      "metadata": {
        "id": "UsQW6QKmSSvS"
      },
      "source": [
        "**You can index using any combination integers and slices:**"
      ]
    },
    {
      "cell_type": "code",
      "metadata": {
        "colab": {
          "base_uri": "https://localhost:8080/"
        },
        "id": "yEyLvHWgQ8YJ",
        "outputId": "6b63ef09-98ea-4444-b2f8-d12b1963c373"
      },
      "source": [
        "print(\"Second Row:\",rank_2_tensor[1 ,:].numpy())\r\n",
        "print(\"Second Column:\",rank_2_tensor[ : , 1:2].numpy())\r\n",
        "print(\"Last Row:\",rank_2_tensor[-1, ].numpy())\r\n",
        "print(\"First item in Last Row:\",rank_2_tensor[-1,0].numpy())\r\n",
        "print(\"Skip the First Row:\",rank_2_tensor[1:, :].numpy())"
      ],
      "execution_count": 45,
      "outputs": [
        {
          "output_type": "stream",
          "text": [
            "Second Row: [4 5 6]\n",
            "Second Column: [[2]\n",
            " [5]]\n",
            "Last Row: [4 5 6]\n",
            "First item in Last Row: 4\n",
            "Skip the First Row: [[4 5 6]]\n"
          ],
          "name": "stdout"
        }
      ]
    },
    {
      "cell_type": "markdown",
      "metadata": {
        "id": "l4nmTWr0UEu-"
      },
      "source": [
        "**Example of a rank_3_tensor**"
      ]
    },
    {
      "cell_type": "code",
      "metadata": {
        "colab": {
          "base_uri": "https://localhost:8080/"
        },
        "id": "wqrDzKQZTuNM",
        "outputId": "f1978c0f-a8c1-4f3f-cd0f-12cb6b27ebe8"
      },
      "source": [
        "print(rank_3_tensor)"
      ],
      "execution_count": 46,
      "outputs": [
        {
          "output_type": "stream",
          "text": [
            "tf.Tensor(\n",
            "[[[ 1  2  3]\n",
            "  [ 4  5  6]]\n",
            "\n",
            " [[ 7  8  9]\n",
            "  [10 11 12]]\n",
            "\n",
            " [[13 14 15]\n",
            "  [16 17 18]]], shape=(3, 2, 3), dtype=int32)\n"
          ],
          "name": "stdout"
        }
      ]
    },
    {
      "cell_type": "code",
      "metadata": {
        "colab": {
          "base_uri": "https://localhost:8080/"
        },
        "id": "NSbLD2atUPmx",
        "outputId": "b5253409-5e96-4049-93a1-a5df88f8625e"
      },
      "source": [
        "print(rank_3_tensor[: , : , 1:2])"
      ],
      "execution_count": 47,
      "outputs": [
        {
          "output_type": "stream",
          "text": [
            "tf.Tensor(\n",
            "[[[ 2]\n",
            "  [ 5]]\n",
            "\n",
            " [[ 8]\n",
            "  [11]]\n",
            "\n",
            " [[14]\n",
            "  [17]]], shape=(3, 2, 1), dtype=int32)\n"
          ],
          "name": "stdout"
        }
      ]
    },
    {
      "cell_type": "markdown",
      "metadata": {
        "id": "LxXq7NQ0UpBc"
      },
      "source": [
        "**Manipulation Shape**"
      ]
    },
    {
      "cell_type": "code",
      "metadata": {
        "colab": {
          "base_uri": "https://localhost:8080/"
        },
        "id": "bsvpwe-5UsdJ",
        "outputId": "76f793c7-e1f9-4827-a720-29a81c0a3b1f"
      },
      "source": [
        "var_x = tf.Variable(tf.constant([[1],[2],[3]]))\r\n",
        "print(var_x.shape)"
      ],
      "execution_count": 54,
      "outputs": [
        {
          "output_type": "stream",
          "text": [
            "(3, 1)\n"
          ],
          "name": "stdout"
        }
      ]
    },
    {
      "cell_type": "code",
      "metadata": {
        "colab": {
          "base_uri": "https://localhost:8080/"
        },
        "id": "0dygCSitUalv",
        "outputId": "7ef902b9-386e-4f4f-ffae-db8de98d0b35"
      },
      "source": [
        "# Converting this obect to a python List \r\n",
        "print(var_x.shape.as_list())"
      ],
      "execution_count": 56,
      "outputs": [
        {
          "output_type": "stream",
          "text": [
            "[3, 1]\n"
          ],
          "name": "stdout"
        }
      ]
    },
    {
      "cell_type": "markdown",
      "metadata": {
        "id": "sS-_nRaNVk0Y"
      },
      "source": [
        "**You can reshape a tensor into a new shape. Reshaping is fast and cheap as the underlying data does not need to be duplicated.**"
      ]
    },
    {
      "cell_type": "code",
      "metadata": {
        "id": "iWUZwKYHVX3Y"
      },
      "source": [
        "reshaped = tf.reshape(var_x , [1,3])"
      ],
      "execution_count": 57,
      "outputs": []
    },
    {
      "cell_type": "code",
      "metadata": {
        "colab": {
          "base_uri": "https://localhost:8080/"
        },
        "id": "jYyE8soiVvzQ",
        "outputId": "71295aae-d08e-4cd0-9ffd-8a3fb1b170db"
      },
      "source": [
        "print(reshaped)"
      ],
      "execution_count": 58,
      "outputs": [
        {
          "output_type": "stream",
          "text": [
            "tf.Tensor([[1 2 3]], shape=(1, 3), dtype=int32)\n"
          ],
          "name": "stdout"
        }
      ]
    },
    {
      "cell_type": "code",
      "metadata": {
        "colab": {
          "base_uri": "https://localhost:8080/"
        },
        "id": "DilSHrz6VyaA",
        "outputId": "fdd933a3-28b3-4e2a-aa48-edeeefaae172"
      },
      "source": [
        "print(var_x.shape)\r\n",
        "print(reshaped.shape)"
      ],
      "execution_count": 59,
      "outputs": [
        {
          "output_type": "stream",
          "text": [
            "(3, 1)\n",
            "(1, 3)\n"
          ],
          "name": "stdout"
        }
      ]
    },
    {
      "cell_type": "code",
      "metadata": {
        "colab": {
          "base_uri": "https://localhost:8080/"
        },
        "id": "SDY3C78LV9iY",
        "outputId": "3fc60253-e16f-4d8d-9b71-d02bbf472952"
      },
      "source": [
        "print(rank_3_tensor)"
      ],
      "execution_count": 60,
      "outputs": [
        {
          "output_type": "stream",
          "text": [
            "tf.Tensor(\n",
            "[[[ 1  2  3]\n",
            "  [ 4  5  6]]\n",
            "\n",
            " [[ 7  8  9]\n",
            "  [10 11 12]]\n",
            "\n",
            " [[13 14 15]\n",
            "  [16 17 18]]], shape=(3, 2, 3), dtype=int32)\n"
          ],
          "name": "stdout"
        }
      ]
    },
    {
      "cell_type": "code",
      "metadata": {
        "colab": {
          "base_uri": "https://localhost:8080/"
        },
        "id": "wzP3CfZYWa0Q",
        "outputId": "626b9cd2-92f4-4c92-996e-a62dd3fb31e7"
      },
      "source": [
        "print(tf.reshape(rank_3_tensor , [-1]))"
      ],
      "execution_count": 61,
      "outputs": [
        {
          "output_type": "stream",
          "text": [
            "tf.Tensor([ 1  2  3  4  5  6  7  8  9 10 11 12 13 14 15 16 17 18], shape=(18,), dtype=int32)\n"
          ],
          "name": "stdout"
        }
      ]
    },
    {
      "cell_type": "code",
      "metadata": {
        "colab": {
          "base_uri": "https://localhost:8080/"
        },
        "id": "ylAZMDNfXsX2",
        "outputId": "6792669b-03e3-4013-ef23-0fe20760c4d5"
      },
      "source": [
        "print(tf.reshape(rank_3_tensor, [3*2, 3]), \"\\n\")\r\n",
        "print(tf.reshape(rank_3_tensor, [3, -1]))"
      ],
      "execution_count": 64,
      "outputs": [
        {
          "output_type": "stream",
          "text": [
            "tf.Tensor(\n",
            "[[ 1  2  3]\n",
            " [ 4  5  6]\n",
            " [ 7  8  9]\n",
            " [10 11 12]\n",
            " [13 14 15]\n",
            " [16 17 18]], shape=(6, 3), dtype=int32) \n",
            "\n",
            "tf.Tensor(\n",
            "[[ 1  2  3  4  5  6]\n",
            " [ 7  8  9 10 11 12]\n",
            " [13 14 15 16 17 18]], shape=(3, 6), dtype=int32)\n"
          ],
          "name": "stdout"
        }
      ]
    },
    {
      "cell_type": "markdown",
      "metadata": {
        "id": "u_JVckspZIrh"
      },
      "source": [
        "**BroadCasting**\r\n",
        "\r\n",
        "Broadcasting is a concept borrowed from the equivalent feature in NumPy. In short, under certain conditions, smaller tensors are \"stretched\" automatically to fit larger tensors when running combined operations on them.\r\n",
        "\r\n",
        "The simplest and most common case is when you attempt to multiply or add a tensor to a scalar. In that case, the scalar is broadcast to be the same shape as the other argument."
      ]
    },
    {
      "cell_type": "code",
      "metadata": {
        "colab": {
          "base_uri": "https://localhost:8080/"
        },
        "id": "XkgqQzSQYqgR",
        "outputId": "2f1a0c0e-56d7-46f2-a794-28b7ead065d5"
      },
      "source": [
        "x = tf.constant([1 , 2 ,3])\r\n",
        "y = tf.constant(2)\r\n",
        "z = tf.constant([2,2,2])\r\n",
        "\r\n",
        "print(tf.multiply(x ,2))\r\n",
        "print(x *y)\r\n",
        "print(x*z)"
      ],
      "execution_count": 65,
      "outputs": [
        {
          "output_type": "stream",
          "text": [
            "tf.Tensor([2 4 6], shape=(3,), dtype=int32)\n",
            "tf.Tensor([2 4 6], shape=(3,), dtype=int32)\n",
            "tf.Tensor([2 4 6], shape=(3,), dtype=int32)\n"
          ],
          "name": "stdout"
        }
      ]
    },
    {
      "cell_type": "markdown",
      "metadata": {
        "id": "ODku0OvdeROr"
      },
      "source": [
        "Likewise, 1-sized dimensions can be stretched out to match the other arguments. Both arguments can be stretched in the same computation.\r\n",
        "\r\n",
        "In this case a 3x1 matrix is element-wise multiplied by a 1x4 matrix to produce a 3x4 matrix. Note how the leading 1 is optional: The shape of y is [4]."
      ]
    },
    {
      "cell_type": "code",
      "metadata": {
        "colab": {
          "base_uri": "https://localhost:8080/"
        },
        "id": "P8rPF-PceJ2H",
        "outputId": "b207bb5b-77b5-4b55-dd15-f7a7eb0646d9"
      },
      "source": [
        "x = tf.reshape(x , [3,1])\r\n",
        "y = tf.range(1 , 5)\r\n",
        "\r\n",
        "print(x,\"\\n\")\r\n",
        "print(y,\"\\n\")\r\n",
        "print(tf.multiply(x , y))"
      ],
      "execution_count": 68,
      "outputs": [
        {
          "output_type": "stream",
          "text": [
            "tf.Tensor(\n",
            "[[1]\n",
            " [2]\n",
            " [3]], shape=(3, 1), dtype=int32) \n",
            "\n",
            "tf.Tensor([1 2 3 4], shape=(4,), dtype=int32) \n",
            "\n",
            "tf.Tensor(\n",
            "[[ 1  2  3  4]\n",
            " [ 2  4  6  8]\n",
            " [ 3  6  9 12]], shape=(3, 4), dtype=int32)\n"
          ],
          "name": "stdout"
        }
      ]
    },
    {
      "cell_type": "markdown",
      "metadata": {
        "id": "dn28bRb0e_d5"
      },
      "source": [
        "Here is the same operation without broadcasting:"
      ]
    },
    {
      "cell_type": "code",
      "metadata": {
        "colab": {
          "base_uri": "https://localhost:8080/"
        },
        "id": "31YucGpWekOI",
        "outputId": "b88ed713-885d-42d6-8050-0b31767631db"
      },
      "source": [
        "x_stretch = tf.constant([[1,1,1,1],\r\n",
        "                         [2,2,2,2],\r\n",
        "                         [3,3,3,3]])\r\n",
        "y_stretch = tf.constant([[1,2,3,4],\r\n",
        "                         [1,2,3,4],\r\n",
        "                         [1,2,3,4]])\r\n",
        "\r\n",
        "print(x_stretch * y_stretch)"
      ],
      "execution_count": 69,
      "outputs": [
        {
          "output_type": "stream",
          "text": [
            "tf.Tensor(\n",
            "[[ 1  2  3  4]\n",
            " [ 2  4  6  8]\n",
            " [ 3  6  9 12]], shape=(3, 4), dtype=int32)\n"
          ],
          "name": "stdout"
        }
      ]
    },
    {
      "cell_type": "markdown",
      "metadata": {
        "id": "vQmR4D33heOA"
      },
      "source": [
        "Most of the time, broadcasting is both time and space efficient, as the broadcast operation never materializes the expanded tensors in memory.\r\n",
        "\r\n",
        "You see what broadcasting looks like using tf.broadcast_to."
      ]
    },
    {
      "cell_type": "code",
      "metadata": {
        "colab": {
          "base_uri": "https://localhost:8080/"
        },
        "id": "Rd22HyY0fYcx",
        "outputId": "f91cb4b5-3dab-42e9-caeb-317fb46a6bd9"
      },
      "source": [
        "print(tf.broadcast_to(tf.constant([1. , 2. , 3.]) , [3,3]))"
      ],
      "execution_count": 70,
      "outputs": [
        {
          "output_type": "stream",
          "text": [
            "tf.Tensor(\n",
            "[[1. 2. 3.]\n",
            " [1. 2. 3.]\n",
            " [1. 2. 3.]], shape=(3, 3), dtype=float32)\n"
          ],
          "name": "stdout"
        }
      ]
    },
    {
      "cell_type": "markdown",
      "metadata": {
        "id": "Kgcbb4PBhzsi"
      },
      "source": [
        "\r\n",
        "Unlike a mathematical op, for example, broadcast_to does nothing special to save memory. Here, you are materializing the tensor."
      ]
    }
  ]
}
