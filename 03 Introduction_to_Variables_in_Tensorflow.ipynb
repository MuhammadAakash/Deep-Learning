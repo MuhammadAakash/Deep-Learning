{
  "nbformat": 4,
  "nbformat_minor": 0,
  "metadata": {
    "colab": {
      "name": "Introduction to Variables in Tensorflow.ipynb",
      "provenance": [],
      "collapsed_sections": []
    },
    "kernelspec": {
      "name": "python3",
      "display_name": "Python 3"
    }
  },
  "cells": [
    {
      "cell_type": "code",
      "metadata": {
        "id": "jMeRTJ9haTc0"
      },
      "source": [
        "import tensorflow as tf"
      ],
      "execution_count": 1,
      "outputs": []
    },
    {
      "cell_type": "markdown",
      "metadata": {
        "id": "8c-tF29XaodQ"
      },
      "source": [
        "A TensorFlow variable is the recommended way to represent shared, persistent state your program manipulates. This guide covers how to create, update, and manage instances of tf.Variable in TensorFlow.\r\n",
        "\r\n",
        "Variables are created and tracked via the tf.Variable class. A tf.Variable represents a tensor whose value can be changed by running ops on it. Specific ops allow you to read and modify the values of this tensor. Higher level libraries like tf.keras use tf.Variable to store model parameters."
      ]
    },
    {
      "cell_type": "code",
      "metadata": {
        "id": "wD2fYcZiabjw"
      },
      "source": [
        "tensor = tf.constant(5)\r\n",
        "variable = tf.Variable([[2,3],[4,5]])\r\n",
        "\r\n",
        "bool_variable = tf.Variable([False , True , False  , True])\r\n",
        "complex_variable = tf.Variable([5+4j , 6+5j])"
      ],
      "execution_count": 2,
      "outputs": []
    },
    {
      "cell_type": "code",
      "metadata": {
        "colab": {
          "base_uri": "https://localhost:8080/"
        },
        "id": "UYb_55ISbKrk",
        "outputId": "350fe44d-86d4-4148-8c46-5d0d07574089"
      },
      "source": [
        "print(\"Shape:\", variable.shape)\r\n",
        "print(\"Dtype:\",variable.dtype)\r\n",
        "print(\"Converted in Numpy:\",variable.numpy)"
      ],
      "execution_count": 4,
      "outputs": [
        {
          "output_type": "stream",
          "text": [
            "Shape: (2, 2)\n",
            "Dtype: <dtype: 'int32'>\n",
            "Converted in Numpy: <bound method BaseResourceVariable.numpy of <tf.Variable 'Variable:0' shape=(2, 2) dtype=int32, numpy=\n",
            "array([[2, 3],\n",
            "       [4, 5]], dtype=int32)>>\n"
          ],
          "name": "stdout"
        }
      ]
    },
    {
      "cell_type": "markdown",
      "metadata": {
        "id": "KueqTkhebjdd"
      },
      "source": [
        "\r\n",
        "A variable looks and acts like a tensor, and, in fact, is a data structure backed by a tf.Tensor. Like tensors, they have a dtype and a shape, and can be exported to NumPy."
      ]
    },
    {
      "cell_type": "markdown",
      "metadata": {
        "id": "jETfJu0wbxys"
      },
      "source": [
        "Most tensor operations work on variables as expected, although variables cannot be reshaped."
      ]
    },
    {
      "cell_type": "code",
      "metadata": {
        "colab": {
          "base_uri": "https://localhost:8080/"
        },
        "id": "DQzCSGnhbbRU",
        "outputId": "f4897e82-f464-4068-a73c-2f32ee0da4f3"
      },
      "source": [
        "print(\"Variable:\",variable)\r\n",
        "print(\"\\n Viewed as a Tensor:\", tf.convert_to_tensor(variable))\r\n",
        "print(\"\\n Index of Highest Value:\", tf.argmax(variable))\r\n",
        "\r\n",
        "# It creates a new Tensor . and not reshaped the original tensor\r\n",
        "print(\"\\n Copying and Reshaping:\", tf.reshape(variable, ([1,4])))"
      ],
      "execution_count": 7,
      "outputs": [
        {
          "output_type": "stream",
          "text": [
            "Variable: <tf.Variable 'Variable:0' shape=(2, 2) dtype=int32, numpy=\n",
            "array([[2, 3],\n",
            "       [4, 5]], dtype=int32)>\n",
            "\n",
            " Viewed as a Tensor: tf.Tensor(\n",
            "[[2 3]\n",
            " [4 5]], shape=(2, 2), dtype=int32)\n",
            "\n",
            " Index of Highest Value: tf.Tensor([1 1], shape=(2,), dtype=int64)\n",
            "\n",
            " Copying and Reshaping: tf.Tensor([[2 3 4 5]], shape=(1, 4), dtype=int32)\n"
          ],
          "name": "stdout"
        }
      ]
    },
    {
      "cell_type": "markdown",
      "metadata": {
        "id": "t-YFt1aDdXRw"
      },
      "source": [
        "\r\n",
        "As noted above, variables are backed by tensors. You can reassign the tensor using tf.Variable.assign. Calling assign does not (usually) allocate a new tensor; instead, the existing tensor's memory is reused."
      ]
    },
    {
      "cell_type": "code",
      "metadata": {
        "colab": {
          "base_uri": "https://localhost:8080/"
        },
        "id": "C_ytQPsFcn-F",
        "outputId": "5c84e06a-7d04-4d4e-89b6-bb6941833b21"
      },
      "source": [
        "a = tf.Variable([2,3])\r\n",
        "\r\n",
        "a.assign([4,5])\r\n",
        "\r\n",
        "try:\r\n",
        "  a.assign([1,2,7])\r\n",
        "except Exception as e: print(e)\r\n",
        "print(\"Variable:\",a)"
      ],
      "execution_count": 9,
      "outputs": [
        {
          "output_type": "stream",
          "text": [
            "Shapes (2,) and (3,) are incompatible\n",
            "Variable: <tf.Variable 'Variable:0' shape=(2,) dtype=int32, numpy=array([4, 5], dtype=int32)>\n"
          ],
          "name": "stdout"
        }
      ]
    },
    {
      "cell_type": "markdown",
      "metadata": {
        "id": "rT6VsgDQeHBk"
      },
      "source": [
        "\r\n",
        "If you use a variable like a tensor in operations, you will usually operate on the backing tensor.\r\n",
        "\r\n",
        "Creating new variables from existing variables duplicates the backing tensors. Two variables will not share the same memory."
      ]
    },
    {
      "cell_type": "code",
      "metadata": {
        "colab": {
          "base_uri": "https://localhost:8080/"
        },
        "id": "wrwHPOMfdzSt",
        "outputId": "a306e5b4-4d70-4915-bc3d-68b9089de7b9"
      },
      "source": [
        "a = tf.Variable([4,5])\r\n",
        "\r\n",
        "b = tf.Variable(a)\r\n",
        "a.assign([2,3])\r\n",
        "\r\n",
        "print(a.numpy())\r\n",
        "print(b.numpy())\r\n",
        "print(a.assign_add([2,3]).numpy()) #[4,6]\r\n",
        "print(a.assign_sub([4,6]).numpy()) #[0,0]"
      ],
      "execution_count": 10,
      "outputs": [
        {
          "output_type": "stream",
          "text": [
            "[2 3]\n",
            "[4 5]\n",
            "[4 6]\n",
            "[0 0]\n"
          ],
          "name": "stdout"
        }
      ]
    },
    {
      "cell_type": "markdown",
      "metadata": {
        "id": "_dvpjXcee-8f"
      },
      "source": [
        "## LifeCycle, Naming and Watching"
      ]
    },
    {
      "cell_type": "markdown",
      "metadata": {
        "id": "llF8u1qSfD5D"
      },
      "source": [
        "In Python-based TensorFlow, tf.Variable instance have the same lifecycle as other Python objects. When there are no references to a variable it is automatically deallocated.\r\n",
        "\r\n",
        "Variables can also be named which can help you track and debug them. You can give two variables the same name."
      ]
    },
    {
      "cell_type": "code",
      "metadata": {
        "colab": {
          "base_uri": "https://localhost:8080/"
        },
        "id": "JitZga8HeyHH",
        "outputId": "9d9eed57-2112-48ba-b9a1-3a6489c22a2d"
      },
      "source": [
        "a = tf.Variable(tensor , name=\"Aakash\")\r\n",
        "\r\n",
        "b = tf.Variable(tensor + 1 , name=\"Aakash\")\r\n",
        "# These are elementwise-unequal, despite having the same name\r\n",
        "print(a==b)"
      ],
      "execution_count": 11,
      "outputs": [
        {
          "output_type": "stream",
          "text": [
            "tf.Tensor(False, shape=(), dtype=bool)\n"
          ],
          "name": "stdout"
        }
      ]
    },
    {
      "cell_type": "markdown",
      "metadata": {
        "id": "OuSas71afkPh"
      },
      "source": [
        "Variable names are preserved when saving and loading models. By default, variables in models will acquire unique variable names automatically, so you don't need to assign them yourself unless you want to.\r\n",
        "\r\n",
        "Although variables are important for differentiation, some variables will not need to be differentiated. You can turn off gradients for a variable by setting trainable to false at creation. An example of a variable that would not need gradients is a training step counter."
      ]
    },
    {
      "cell_type": "code",
      "metadata": {
        "id": "UgY7HgplfaOh"
      },
      "source": [
        "step_counter = tf.Variable(1 , trainable=False)"
      ],
      "execution_count": 12,
      "outputs": []
    },
    {
      "cell_type": "markdown",
      "metadata": {
        "id": "-x1h4ZJuf5kt"
      },
      "source": [
        "## Placing Variable and Tensors"
      ]
    },
    {
      "cell_type": "markdown",
      "metadata": {
        "id": "ONR7xFwTf2xf"
      },
      "source": [
        "For better performance, TensorFlow will attempt to place tensors and variables on the fastest device compatible with its dtype. This means most variables are placed on a GPU if one is available.\r\n",
        "\r\n",
        "However, we can override this. In this snippet, we can place a float tensor and a variable on the CPU, even if a GPU is available. By turning on device placement logging, we can see where the variable is placed.\r\n",
        "\r\n",
        "Note: Although manual placement works, using can be a more convenient and scalable way to optimize your computation.\r\n",
        "\r\n",
        "If you run this notebook on different backends with and without a GPU you will see different logging. Note that logging device placement must be turned on at the start of the session"
      ]
    },
    {
      "cell_type": "code",
      "metadata": {
        "colab": {
          "base_uri": "https://localhost:8080/"
        },
        "id": "FckuXFhgfrBn",
        "outputId": "c02399a7-fe6c-416b-a3f3-284fb598dbd2"
      },
      "source": [
        "with tf.device('CPU:0'):\r\n",
        "\r\n",
        "  # Create some tensors\r\n",
        "  a = tf.Variable([[1.0, 2.0, 3.0], [4.0, 5.0, 6.0]])\r\n",
        "  b = tf.constant([[1.0, 2.0], [3.0, 4.0], [5.0, 6.0]])\r\n",
        "  c = tf.matmul(a, b)\r\n",
        "\r\n",
        "print(c)"
      ],
      "execution_count": 14,
      "outputs": [
        {
          "output_type": "stream",
          "text": [
            "tf.Tensor(\n",
            "[[22. 28.]\n",
            " [49. 64.]], shape=(2, 2), dtype=float32)\n"
          ],
          "name": "stdout"
        }
      ]
    },
    {
      "cell_type": "markdown",
      "metadata": {
        "id": "2sVRzYpGgIgl"
      },
      "source": [
        "It's possible to set the location of a variable or tensor on one device and do the computation on another device. This will introduce delay, as data needs to be copied between the devices.\r\n",
        "\r\n",
        "You might do this, however, if you had multiple GPU workers but only want one copy of the variables."
      ]
    },
    {
      "cell_type": "code",
      "metadata": {
        "colab": {
          "base_uri": "https://localhost:8080/"
        },
        "id": "hw_pX9QRf02l",
        "outputId": "ef4e6763-02a8-44a5-bf1a-be7caebf3be1"
      },
      "source": [
        "\r\n",
        "with tf.device('CPU:0'):\r\n",
        "  a = tf.Variable([[1.0, 2.0, 3.0], [4.0, 5.0, 6.0]])\r\n",
        "  b = tf.Variable([[1.0, 2.0, 3.0]])\r\n",
        "\r\n",
        "with tf.device('GPU:0'):\r\n",
        "  # Element-wise multiply\r\n",
        "  k = a * b\r\n",
        "\r\n",
        "print(k)"
      ],
      "execution_count": 15,
      "outputs": [
        {
          "output_type": "stream",
          "text": [
            "tf.Tensor(\n",
            "[[ 1.  4.  9.]\n",
            " [ 4. 10. 18.]], shape=(2, 3), dtype=float32)\n"
          ],
          "name": "stdout"
        }
      ]
    },
    {
      "cell_type": "markdown",
      "metadata": {
        "id": "0llCbfU2glLf"
      },
      "source": [
        "## Low Level Tensorflow Code"
      ]
    },
    {
      "cell_type": "markdown",
      "metadata": {
        "id": "xM7xlxe3grsd"
      },
      "source": [
        "In this notebook, we will start by reviewing the main operations on Tensors in TensorFlow and understand how to manipulate TensorFlow Variables. We explain how these are compatible with python built-in list and numpy arrays."
      ]
    },
    {
      "cell_type": "code",
      "metadata": {
        "id": "zDbKofWTgLU6"
      },
      "source": [
        "import numpy as np\r\n",
        "import matplotlib.pyplot as plt"
      ],
      "execution_count": 16,
      "outputs": []
    },
    {
      "cell_type": "code",
      "metadata": {
        "colab": {
          "base_uri": "https://localhost:8080/"
        },
        "id": "4KYo09urgxwe",
        "outputId": "8f290a52-af49-4076-a9ea-2e23d3774f7a"
      },
      "source": [
        "x = tf.constant([4,5,6])\r\n",
        "x"
      ],
      "execution_count": 17,
      "outputs": [
        {
          "output_type": "execute_result",
          "data": {
            "text/plain": [
              "<tf.Tensor: shape=(3,), dtype=int32, numpy=array([4, 5, 6], dtype=int32)>"
            ]
          },
          "metadata": {
            "tags": []
          },
          "execution_count": 17
        }
      ]
    },
    {
      "cell_type": "code",
      "metadata": {
        "colab": {
          "base_uri": "https://localhost:8080/"
        },
        "id": "eF1gzxP3g26Q",
        "outputId": "1e2b53a9-5c95-4671-f3b4-a8f02a5a2e5e"
      },
      "source": [
        "x = tf.Variable(2.0 , name = \"my_variable\")\r\n",
        "x"
      ],
      "execution_count": 18,
      "outputs": [
        {
          "output_type": "execute_result",
          "data": {
            "text/plain": [
              "<tf.Variable 'my_variable:0' shape=() dtype=float32, numpy=2.0>"
            ]
          },
          "metadata": {
            "tags": []
          },
          "execution_count": 18
        }
      ]
    },
    {
      "cell_type": "code",
      "metadata": {
        "colab": {
          "base_uri": "https://localhost:8080/"
        },
        "id": "SmX6iXOahMtD",
        "outputId": "8bde930f-295e-44e1-8cbd-6906e406f4b8"
      },
      "source": [
        "x.assign(45.2)\r\n",
        "x"
      ],
      "execution_count": 20,
      "outputs": [
        {
          "output_type": "execute_result",
          "data": {
            "text/plain": [
              "<tf.Variable 'my_variable:0' shape=() dtype=float32, numpy=45.2>"
            ]
          },
          "metadata": {
            "tags": []
          },
          "execution_count": 20
        }
      ]
    },
    {
      "cell_type": "code",
      "metadata": {
        "colab": {
          "base_uri": "https://localhost:8080/"
        },
        "id": "T8Rk23dYhPNP",
        "outputId": "989f8c41-348f-467a-bdf9-f56a9f802bdb"
      },
      "source": [
        "x.assign_add(4.0)"
      ],
      "execution_count": 22,
      "outputs": [
        {
          "output_type": "execute_result",
          "data": {
            "text/plain": [
              "<tf.Variable 'UnreadVariable' shape=() dtype=float32, numpy=49.2>"
            ]
          },
          "metadata": {
            "tags": []
          },
          "execution_count": 22
        }
      ]
    },
    {
      "cell_type": "code",
      "metadata": {
        "colab": {
          "base_uri": "https://localhost:8080/"
        },
        "id": "X3-DWXIbhT-9",
        "outputId": "cbbae976-d185-4a4c-b9ef-4e5914a3ec01"
      },
      "source": [
        "x.assign_sub(2)\r\n",
        "x"
      ],
      "execution_count": 23,
      "outputs": [
        {
          "output_type": "execute_result",
          "data": {
            "text/plain": [
              "<tf.Variable 'my_variable:0' shape=() dtype=float32, numpy=47.2>"
            ]
          },
          "metadata": {
            "tags": []
          },
          "execution_count": 23
        }
      ]
    },
    {
      "cell_type": "markdown",
      "metadata": {
        "id": "A6yG1Qqxhdkc"
      },
      "source": [
        "## Point Wise Operations"
      ]
    },
    {
      "cell_type": "code",
      "metadata": {
        "colab": {
          "base_uri": "https://localhost:8080/"
        },
        "id": "1DMTjpv2haHq",
        "outputId": "f0043f98-0ab2-4f6e-99dd-62a4284b3025"
      },
      "source": [
        "a = tf.Variable([1,2,3])\r\n",
        "b = tf.Variable([1,1,1])\r\n",
        "\r\n",
        "c = tf.add(a,b)\r\n",
        "d = a + b\r\n",
        "\r\n",
        "print(\"C:\",c)\r\n",
        "print(\"D:\",d)"
      ],
      "execution_count": 24,
      "outputs": [
        {
          "output_type": "stream",
          "text": [
            "C: tf.Tensor([2 3 4], shape=(3,), dtype=int32)\n",
            "D: tf.Tensor([2 3 4], shape=(3,), dtype=int32)\n"
          ],
          "name": "stdout"
        }
      ]
    },
    {
      "cell_type": "code",
      "metadata": {
        "colab": {
          "base_uri": "https://localhost:8080/"
        },
        "id": "8q7wH25Dh_ED",
        "outputId": "1e93d120-81e4-4c6d-d270-0e72eb666857"
      },
      "source": [
        "a = tf.Variable([1,2,3])\r\n",
        "b = tf.Variable([1,1,1])\r\n",
        "\r\n",
        "c = tf.multiply(a,b)\r\n",
        "d = a * b\r\n",
        "\r\n",
        "print(\"C:\",c)\r\n",
        "print(\"D:\",d)"
      ],
      "execution_count": 25,
      "outputs": [
        {
          "output_type": "stream",
          "text": [
            "C: tf.Tensor([1 2 3], shape=(3,), dtype=int32)\n",
            "D: tf.Tensor([1 2 3], shape=(3,), dtype=int32)\n"
          ],
          "name": "stdout"
        }
      ]
    },
    {
      "cell_type": "code",
      "metadata": {
        "colab": {
          "base_uri": "https://localhost:8080/"
        },
        "id": "Ze8X4wYliFke",
        "outputId": "5a481a13-b645-4c3c-fda5-ed7756ed19c5"
      },
      "source": [
        "a = tf.Variable([3.,4.,5.])\r\n",
        "b = tf.math.exp(a)\r\n",
        "\r\n",
        "print(\"B:\",b)"
      ],
      "execution_count": 27,
      "outputs": [
        {
          "output_type": "stream",
          "text": [
            "B: tf.Tensor([ 20.085537  54.59815  148.41316 ], shape=(3,), dtype=float32)\n"
          ],
          "name": "stdout"
        }
      ]
    },
    {
      "cell_type": "markdown",
      "metadata": {
        "id": "CPdk-i3TifmP"
      },
      "source": [
        "## Python Interoperability\r\n"
      ]
    },
    {
      "cell_type": "code",
      "metadata": {
        "id": "QQ6C4NP_iVt_"
      },
      "source": [
        "# python List\r\n",
        "a_py = [1,2]\r\n",
        "b_py = [3,4]"
      ],
      "execution_count": 29,
      "outputs": []
    },
    {
      "cell_type": "code",
      "metadata": {
        "colab": {
          "base_uri": "https://localhost:8080/"
        },
        "id": "n-tKHGEaimNc",
        "outputId": "e3b5ffd6-1412-4f56-d46b-aeba29f8d2bc"
      },
      "source": [
        "tf.add(a_py , b_py)"
      ],
      "execution_count": 30,
      "outputs": [
        {
          "output_type": "execute_result",
          "data": {
            "text/plain": [
              "<tf.Tensor: shape=(2,), dtype=int32, numpy=array([4, 6], dtype=int32)>"
            ]
          },
          "metadata": {
            "tags": []
          },
          "execution_count": 30
        }
      ]
    },
    {
      "cell_type": "code",
      "metadata": {
        "id": "Bobm2VLXiwBI"
      },
      "source": [
        "# Numpy Arrays\r\n",
        "a_np = np.array([1,2,3])\r\n",
        "b_np = np.array([2,3,4])"
      ],
      "execution_count": 31,
      "outputs": []
    },
    {
      "cell_type": "code",
      "metadata": {
        "colab": {
          "base_uri": "https://localhost:8080/"
        },
        "id": "JX1lHiHai71-",
        "outputId": "1265fa91-c459-480d-b824-cd2b2784cbc8"
      },
      "source": [
        "tf.add(a_np , b_np)"
      ],
      "execution_count": 32,
      "outputs": [
        {
          "output_type": "execute_result",
          "data": {
            "text/plain": [
              "<tf.Tensor: shape=(3,), dtype=int64, numpy=array([3, 5, 7])>"
            ]
          },
          "metadata": {
            "tags": []
          },
          "execution_count": 32
        }
      ]
    },
    {
      "cell_type": "code",
      "metadata": {
        "id": "WkpIiyxajCv1"
      },
      "source": [
        "# Tensorflow list via tf.constant\r\n",
        "a_tf = tf.constant([1,2])\r\n",
        "b_tf = tf.constant([2,3])"
      ],
      "execution_count": 34,
      "outputs": []
    },
    {
      "cell_type": "code",
      "metadata": {
        "colab": {
          "base_uri": "https://localhost:8080/"
        },
        "id": "dQQQGaKIjJJQ",
        "outputId": "44495725-29bc-431d-e9f2-eed1b407c05b"
      },
      "source": [
        "tf.add(a_tf , b_tf)"
      ],
      "execution_count": 35,
      "outputs": [
        {
          "output_type": "execute_result",
          "data": {
            "text/plain": [
              "<tf.Tensor: shape=(2,), dtype=int32, numpy=array([3, 5], dtype=int32)>"
            ]
          },
          "metadata": {
            "tags": []
          },
          "execution_count": 35
        }
      ]
    },
    {
      "cell_type": "code",
      "metadata": {
        "colab": {
          "base_uri": "https://localhost:8080/"
        },
        "id": "n6U_8oodjS1Y",
        "outputId": "d51cbda1-0c71-43ce-e5b3-9a6a379c21bd"
      },
      "source": [
        "a_tf.numpy()"
      ],
      "execution_count": 36,
      "outputs": [
        {
          "output_type": "execute_result",
          "data": {
            "text/plain": [
              "array([1, 2], dtype=int32)"
            ]
          },
          "metadata": {
            "tags": []
          },
          "execution_count": 36
        }
      ]
    },
    {
      "cell_type": "markdown",
      "metadata": {
        "id": "y4KG1IEMjZ1e"
      },
      "source": [
        "**End for Now**\r\n",
        "****"
      ]
    }
  ]
}
