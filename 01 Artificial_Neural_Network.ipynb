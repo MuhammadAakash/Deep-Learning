{
  "nbformat": 4,
  "nbformat_minor": 0,
  "metadata": {
    "colab": {
      "name": "Artificial Neural Network.ipynb",
      "provenance": [],
      "collapsed_sections": []
    },
    "kernelspec": {
      "name": "python3",
      "display_name": "Python 3"
    }
  },
  "cells": [
    {
      "cell_type": "code",
      "metadata": {
        "id": "E_y6mzw40nFW"
      },
      "source": [
        "import numpy as np "
      ],
      "execution_count": null,
      "outputs": []
    },
    {
      "cell_type": "code",
      "metadata": {
        "colab": {
          "base_uri": "https://localhost:8080/"
        },
        "id": "afOyM8HQ0uaK",
        "outputId": "f238255b-fb2a-43e6-ef75-e2c5b65eb619"
      },
      "source": [
        "input_values = np.array([[0,0],[0,1],[1,0],[1,1]])\r\n",
        "input_values"
      ],
      "execution_count": null,
      "outputs": [
        {
          "output_type": "execute_result",
          "data": {
            "text/plain": [
              "array([[0, 0],\n",
              "       [0, 1],\n",
              "       [1, 0],\n",
              "       [1, 1]])"
            ]
          },
          "metadata": {
            "tags": []
          },
          "execution_count": 5
        }
      ]
    },
    {
      "cell_type": "code",
      "metadata": {
        "colab": {
          "base_uri": "https://localhost:8080/"
        },
        "id": "VoehaqUv0_D4",
        "outputId": "3c3f58b8-cb70-44fa-f0df-ed0cf8fc96d8"
      },
      "source": [
        "input_values.shape"
      ],
      "execution_count": null,
      "outputs": [
        {
          "output_type": "execute_result",
          "data": {
            "text/plain": [
              "(4, 2)"
            ]
          },
          "metadata": {
            "tags": []
          },
          "execution_count": 6
        }
      ]
    },
    {
      "cell_type": "code",
      "metadata": {
        "colab": {
          "base_uri": "https://localhost:8080/"
        },
        "id": "-ydgJttr1H33",
        "outputId": "0406491d-2a02-4775-d0d9-1fce43dab7ac"
      },
      "source": [
        "output = np.array([0,1,1,0])\r\n",
        "output"
      ],
      "execution_count": null,
      "outputs": [
        {
          "output_type": "execute_result",
          "data": {
            "text/plain": [
              "array([0, 1, 1, 0])"
            ]
          },
          "metadata": {
            "tags": []
          },
          "execution_count": 7
        }
      ]
    },
    {
      "cell_type": "code",
      "metadata": {
        "colab": {
          "base_uri": "https://localhost:8080/"
        },
        "id": "chRdlNUh1OmB",
        "outputId": "63fffaa8-fcc0-42f4-ea18-d22dc4d505ee"
      },
      "source": [
        "output.shape"
      ],
      "execution_count": null,
      "outputs": [
        {
          "output_type": "execute_result",
          "data": {
            "text/plain": [
              "(4,)"
            ]
          },
          "metadata": {
            "tags": []
          },
          "execution_count": 9
        }
      ]
    },
    {
      "cell_type": "code",
      "metadata": {
        "colab": {
          "base_uri": "https://localhost:8080/"
        },
        "id": "nlvF3bgB1QqR",
        "outputId": "2cd6f31a-b150-4da7-805b-098632265a3d"
      },
      "source": [
        "weights = np.array([[0.1],[0.2]])\r\n",
        "weights"
      ],
      "execution_count": null,
      "outputs": [
        {
          "output_type": "execute_result",
          "data": {
            "text/plain": [
              "array([[0.1],\n",
              "       [0.2]])"
            ]
          },
          "metadata": {
            "tags": []
          },
          "execution_count": 10
        }
      ]
    },
    {
      "cell_type": "code",
      "metadata": {
        "id": "hbx9L6eZ1ekK"
      },
      "source": [
        "bias  = 0.3"
      ],
      "execution_count": null,
      "outputs": []
    },
    {
      "cell_type": "code",
      "metadata": {
        "id": "7T_mzrYJ1ibt"
      },
      "source": [
        "def sigmoid_func(x):\r\n",
        "  return 1/(1 + np.exp(-x))"
      ],
      "execution_count": null,
      "outputs": []
    },
    {
      "cell_type": "code",
      "metadata": {
        "id": "QCTbyrmC1wqR"
      },
      "source": [
        "def der(x):\r\n",
        "  return sigmoid_func(x) * (1 - sigmoid_func(x))"
      ],
      "execution_count": null,
      "outputs": []
    },
    {
      "cell_type": "code",
      "metadata": {
        "colab": {
          "base_uri": "https://localhost:8080/"
        },
        "id": "wqV6YVDd1_sZ",
        "outputId": "d088c39d-ab64-42b7-a777-5fa02564e5b3"
      },
      "source": [
        "for epochs in range(1000):\r\n",
        "  input_arr = input_values\r\n",
        "  weighted_sum = np.dot(input_arr , weights) + bias\r\n",
        "  first_output = sigmoid_func(weighted_sum)\r\n",
        "\r\n",
        "  error = first_output - output\r\n",
        "  total_error = np.square(np.subtract(first_output , output)).mean()\r\n",
        "\r\n",
        "  first_der = error\r\n",
        "  second_der = der(first_output)\r\n",
        "  derivative = first_der * second_der\r\n",
        "\r\n",
        "  t_input = input_values.T\r\n",
        "  final_derivative = np.dot(t_input , derivative)\r\n",
        "\r\n",
        "  weights = weights - 0.05 * final_derivative\r\n",
        "\r\n",
        "  for i in derivative:\r\n",
        "    bias = bias - 0.04 * i\r\n",
        "\r\n",
        "print(\"Weights\", weights)\r\n",
        "print(\"Bias\", bias)"
      ],
      "execution_count": null,
      "outputs": [
        {
          "output_type": "stream",
          "text": [
            "Weights [[-1.30458287  1.16717147  1.16717147 -1.30458287]\n",
            " [-1.25430382  1.2213744   1.2213744  -1.25430382]]\n",
            "Bias [-2.87514222  2.76365938  2.76365938 -2.87514222]\n"
          ],
          "name": "stdout"
        }
      ]
    },
    {
      "cell_type": "code",
      "metadata": {
        "colab": {
          "base_uri": "https://localhost:8080/"
        },
        "id": "wzSrLA7T32ao",
        "outputId": "955d7048-9a6f-40c4-84f8-4854d8968f8c"
      },
      "source": [
        "\r\n",
        "pred = np.array([0,1])\r\n",
        "\r\n",
        "result = np.dot(pred, weights) + bias\r\n",
        "\r\n",
        "res = sigmoid_func(result)\r\n",
        "\r\n",
        "print(res)"
      ],
      "execution_count": null,
      "outputs": [
        {
          "output_type": "stream",
          "text": [
            "[0.01583695 0.98174753 0.98174753 0.01583695]\n"
          ],
          "name": "stdout"
        }
      ]
    },
    {
      "cell_type": "code",
      "metadata": {
        "id": "mfCE9zWT4QW5"
      },
      "source": [
        ""
      ],
      "execution_count": null,
      "outputs": []
    }
  ]
}
